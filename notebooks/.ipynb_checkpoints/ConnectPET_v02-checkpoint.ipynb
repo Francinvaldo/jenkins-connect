{
 "cells": [
  {
   "cell_type": "code",
   "execution_count": 43,
   "metadata": {},
   "outputs": [],
   "source": [
    "############################################################################################################################################################################\n",
    "#                                                                  Projeto ConnectPet                                                                                      #\n",
    "#                                                       Grupo de Inteligência Artificial Logicalis- Brasil                                                                 #\n",
    "#                                                                                                                                                                          #\n",
    "#                                                                                                                                                                          #\n",
    "############################################################################################################################################################################"
   ]
  },
  {
   "cell_type": "code",
   "execution_count": 28,
   "metadata": {},
   "outputs": [],
   "source": [
    "############################################################################################################################################################################\n",
    "#                                                                  Projeto ConnectPet                                                                                      #\n",
    "#                                                                     bibliotecas                                                                                          #\n",
    "#                                                                                                                                                                          #\n",
    "#                                                                                                                                                                          #\n",
    "############################################################################################################################################################################\n",
    "import pandas as pd\n",
    "import dask.dataframe as dd\n",
    "from sklearn.cluster import KMeans\n",
    "import matplotlib.pyplot as plt\n",
    "import seaborn as sns;sns.set(context='notebook', palette='pastel', style='darkgrid')\n",
    "# import Python libraries\n",
    "import warnings\n",
    "warnings.filterwarnings('ignore')\n",
    "import numpy as np\n",
    "import pandas as pd\n",
    "import matplotlib.pyplot as plt\n",
    "%matplotlib inline\n",
    "from sklearn.metrics import roc_auc_score\n",
    "from sklearn.preprocessing import StandardScaler\n",
    "from sklearn.preprocessing import MinMaxScaler\n",
    "from sklearn import tree\n",
    "import pandas as pd\n",
    "from sklearn.pipeline import Pipeline\n",
    "from category_encoders import OneHotEncoder\n",
    "from sklearn.linear_model import LogisticRegression\n",
    "from sklearn.tree import DecisionTreeClassifier\n",
    "from sklearn.ensemble import RandomForestClassifier\n",
    "from sklearn.model_selection import train_test_split\n",
    "from sklearn.model_selection import GridSearchCV\n",
    "from sklearn.svm import LinearSVC\n",
    "import pickle\n",
    "from sklearn.metrics import classification_report\n",
    "\n",
    "\n",
    "\n",
    "from sklearn.model_selection import cross_val_score\n",
    "\n",
    "#from IPython.core.display import display, HTML\n",
    "#display(HTML(\"<style>.container { width:100% !important; }</style>\"))"
   ]
  },
  {
   "cell_type": "code",
   "execution_count": 2,
   "metadata": {},
   "outputs": [],
   "source": [
    "############################################################################################################################################################################\n",
    "#                                                                  Projeto ConnectPet                                                                                      #\n",
    "#                                                       Dataset - Tenho que ver se esse e o completo.                                                                      #\n",
    "#                                                                                                                                                                          #\n",
    "#                                                                                                                                                                          #\n",
    "############################################################################################################################################################################"
   ]
  },
  {
   "cell_type": "code",
   "execution_count": 44,
   "metadata": {},
   "outputs": [],
   "source": [
    "dd_the_big_table = dd.read_parquet('/home/re91921z@nimbus.local/Documentos/DataScience/ConnectPET/data/db_merged.parquet/*.parquet',engine='fastparquet' )\n",
    "dd_the_big_table = dd_the_big_table[dd_the_big_table['activity'] != 'NO LABEL']\n",
    "df  = dd_the_big_table.compute()"
   ]
  },
  {
   "cell_type": "code",
   "execution_count": 47,
   "metadata": {},
   "outputs": [],
   "source": [
    "############################################################################################################################################################################\n",
    "#                                                                  Projeto ConnectPet                                                                                      #\n",
    "#                                                                Balanciamento do dataset.                                                                                 #\n",
    "#                                                                                                                                                                          #\n",
    "#                                                                                                                                                                          #\n",
    "############################################################################################################################################################################"
   ]
  },
  {
   "cell_type": "code",
   "execution_count": 48,
   "metadata": {},
   "outputs": [],
   "source": [
    "#!pip install imblearn"
   ]
  },
  {
   "cell_type": "code",
   "execution_count": null,
   "metadata": {},
   "outputs": [],
   "source": []
  },
  {
   "cell_type": "code",
   "execution_count": 49,
   "metadata": {},
   "outputs": [],
   "source": [
    "############################################################################################################################################################################\n",
    "#                                                                  Projeto ConnectPet                                                                                      #\n",
    "#                                                                Distribuição das classes                                                                                  #\n",
    "#                                                                                                                                                                          #\n",
    "#                                                                                                                                                                          #\n",
    "############################################################################################################################################################################"
   ]
  },
  {
   "cell_type": "code",
   "execution_count": 50,
   "metadata": {},
   "outputs": [],
   "source": [
    "# check the distribution of Class column\n",
    "#df['activity'].value_counts()"
   ]
  },
  {
   "cell_type": "code",
   "execution_count": 51,
   "metadata": {},
   "outputs": [],
   "source": [
    "# percentage of labels within the Class column\n",
    "#df['activity'].value_counts()/np.float(len(df))"
   ]
  },
  {
   "cell_type": "code",
   "execution_count": 52,
   "metadata": {},
   "outputs": [],
   "source": [
    "# view the distribution of percentages within the Class column\n",
    "#(df['activity'].value_counts()/np.float(len(df))).plot.bar()"
   ]
  },
  {
   "cell_type": "code",
   "execution_count": 53,
   "metadata": {},
   "outputs": [],
   "source": [
    "############################################################################################################################################################################\n",
    "#                                                                  Projeto ConnectPet                                                                                      #\n",
    "#                                                           Dividir o dataset em train e test                                                                              #\n",
    "#                                                                                                                                                                          #\n",
    "#                                                                                                                                                                          #\n",
    "############################################################################################################################################################################"
   ]
  },
  {
   "cell_type": "code",
   "execution_count": 40,
   "metadata": {},
   "outputs": [
    {
     "data": {
      "text/plain": [
       "1571850157       50904\n",
       "1571708263        9789\n",
       "1572037710316     8863\n",
       "1568484453961     6620\n",
       "1573049162056     5999\n",
       "1575989800104     5719\n",
       "1576706439044     5048\n",
       "1572036715909     2382\n",
       "1572038114621     2025\n",
       "1571837122906     1199\n",
       "1572312051598     1008\n",
       "1574709605         304\n",
       "1574860903         256\n",
       "1573651031         203\n",
       "1570121551741      188\n",
       "1568588846374      186\n",
       "Name: pet_id, dtype: int64"
      ]
     },
     "execution_count": 40,
     "metadata": {},
     "output_type": "execute_result"
    }
   ],
   "source": [
    "df['pet_id'].value_counts()"
   ]
  },
  {
   "cell_type": "code",
   "execution_count": 45,
   "metadata": {},
   "outputs": [],
   "source": [
    "df_validation = df[df['pet_id'] == 1572312051598]"
   ]
  },
  {
   "cell_type": "code",
   "execution_count": 46,
   "metadata": {},
   "outputs": [],
   "source": [
    "df = df[df['collar_id'] != 1572312051598]"
   ]
  },
  {
   "cell_type": "code",
   "execution_count": 47,
   "metadata": {},
   "outputs": [],
   "source": [
    "# Deletar colunas \n",
    "df.drop(['gx','gy','gz','lat','long'],axis=1,inplace=True)"
   ]
  },
  {
   "cell_type": "code",
   "execution_count": 48,
   "metadata": {},
   "outputs": [],
   "source": [
    "df_validation.drop(['gx','gy','gz','lat','long'],axis=1,inplace=True)"
   ]
  },
  {
   "cell_type": "code",
   "execution_count": 49,
   "metadata": {},
   "outputs": [],
   "source": [
    "X = df.drop('activity',axis=1,inplace=False)\n",
    "y = df['activity']\n",
    "X_train , X_test , y_train , y_test  = train_test_split(X,y)"
   ]
  },
  {
   "cell_type": "code",
   "execution_count": 50,
   "metadata": {},
   "outputs": [],
   "source": [
    "ohe = OneHotEncoder(use_cat_names=True)"
   ]
  },
  {
   "cell_type": "code",
   "execution_count": 9,
   "metadata": {},
   "outputs": [],
   "source": [
    "############################################################################################################################################################################\n",
    "#                                                                  Projeto ConnectPet                                                                                      #\n",
    "#                                                               Pipeline-Machine learning                                                                                  #\n",
    "#                                                                                                                                                                          #\n",
    "#                                                                                                                                                                          #\n",
    "############################################################################################################################################################################"
   ]
  },
  {
   "cell_type": "code",
   "execution_count": 51,
   "metadata": {},
   "outputs": [],
   "source": [
    "pipeline_tree = Pipeline([\n",
    "    ('ohe',OneHotEncoder()),\n",
    "    ('Scaler',StandardScaler()),\n",
    "    ('clf',tree.DecisionTreeClassifier())    \n",
    "])\n",
    "\n",
    "pipeline_lr = Pipeline([\n",
    "     ('ohe',OneHotEncoder()),\n",
    "    ('Scaler',StandardScaler()),\n",
    "    ('clf_lr',LogisticRegression(random_state=0))\n",
    "    \n",
    "])\n",
    "pipeline_randomforest = Pipeline([\n",
    "     ('ohe',OneHotEncoder(use_cat_names=True)),\n",
    "    ('Scaler',StandardScaler()),\n",
    "    ('rf_classifer',RandomForestClassifier())\n",
    "    \n",
    "])\n",
    "\n",
    "pipeline_svm = Pipeline([\n",
    "     ('ohe',OneHotEncoder(use_cat_names=True)),\n",
    "    ('Scaler',StandardScaler()),\n",
    "    ('rf_classifer',LinearSVC())\n",
    "    \n",
    "])\n",
    "\n",
    "pipeline_final = [pipeline_lr,pipeline_tree,pipeline_randomforest,pipeline_svm]"
   ]
  },
  {
   "cell_type": "code",
   "execution_count": null,
   "metadata": {},
   "outputs": [],
   "source": []
  },
  {
   "cell_type": "code",
   "execution_count": 11,
   "metadata": {},
   "outputs": [],
   "source": [
    "############################################################################################################################################################################\n",
    "#                                                                  Projeto ConnectPet                                                                                      #\n",
    "#                                                                  Resultados/Metricas                                                                                     #\n",
    "#                                                                                                                                                                          #\n",
    "#                                                                                                                                                                          #\n",
    "############################################################################################################################################################################"
   ]
  },
  {
   "cell_type": "code",
   "execution_count": 52,
   "metadata": {},
   "outputs": [],
   "source": [
    "best_accuracy = 0.0\n",
    "best_classifer = 0\n",
    "best_pipeline = \"\""
   ]
  },
  {
   "cell_type": "code",
   "execution_count": 53,
   "metadata": {},
   "outputs": [],
   "source": [
    "pipe_dict = {0:'Logistic Regression',1:'Desion Tree',2:'random forest',3:'support vector machine'}\n",
    "for pipe in pipeline_final:\n",
    "    pipe.fit(X_train,y_train)"
   ]
  },
  {
   "cell_type": "code",
   "execution_count": null,
   "metadata": {},
   "outputs": [],
   "source": []
  },
  {
   "cell_type": "code",
   "execution_count": 54,
   "metadata": {},
   "outputs": [
    {
     "name": "stdout",
     "output_type": "stream",
     "text": [
      "Logistic Regression Test Accuracy: 0.6053865098911575\n",
      "Desion Tree Test Accuracy: 0.9900691189322317\n",
      "random forest Test Accuracy: 0.9580122348454755\n",
      "support vector machine Test Accuracy: 0.5983951696194486\n"
     ]
    }
   ],
   "source": [
    "for i,model in enumerate(pipeline_final):\n",
    "    print(\"{} Test Accuracy: {}\".format(pipe_dict[i],model.score(X_test,y_test)))     "
   ]
  },
  {
   "cell_type": "code",
   "execution_count": 55,
   "metadata": {},
   "outputs": [
    {
     "name": "stdout",
     "output_type": "stream",
     "text": [
      "Classifer with best accuracy : Desion Tree\n"
     ]
    }
   ],
   "source": [
    "for i, model in enumerate(pipeline_final):\n",
    "    if model.score(X_test,y_test)> best_accuracy:\n",
    "        best_accuracy = model.score(X_test,y_test)\n",
    "        best_pipeline = model\n",
    "        best_classifer = i\n",
    "print('Classifer with best accuracy : {}'.format(pipe_dict[best_classifer]))"
   ]
  },
  {
   "cell_type": "code",
   "execution_count": null,
   "metadata": {},
   "outputs": [],
   "source": []
  },
  {
   "cell_type": "code",
   "execution_count": 16,
   "metadata": {},
   "outputs": [
    {
     "name": "stdout",
     "output_type": "stream",
     "text": [
      "Andando\n"
     ]
    }
   ],
   "source": [
    "#print(pipeline_lr.predict(df_validation)[0])\n",
    "print(pipeline_tree.predict(X_test)[0])\n",
    "#print(pipeline_randomforest.predict(X_test)[0])\n",
    "#print(pipeline_svm.predict(X_test)[0])"
   ]
  },
  {
   "cell_type": "code",
   "execution_count": 69,
   "metadata": {},
   "outputs": [],
   "source": [
    "############################################################################################################################################################################\n",
    "#                                                                  Projeto ConnectPet                                                                                      #\n",
    "#                                                               Salvar o Modelo em Disco                                                                                   #\n",
    "#                                                                                                                                                                          #\n",
    "#                                                                                                                                                                          #\n",
    "############################################################################################################################################################################"
   ]
  },
  {
   "cell_type": "code",
   "execution_count": 56,
   "metadata": {},
   "outputs": [],
   "source": [
    "# Saving model to disk\n",
    "model = pickle.dump(best_pipeline, open('/home/re91921z@nimbus.local/Documentos/DataScience/ConnectPET/connectPET_v01.pkl','wb'))"
   ]
  },
  {
   "cell_type": "code",
   "execution_count": 57,
   "metadata": {},
   "outputs": [],
   "source": [
    "# bora testar o modelo em disco??\n",
    "# Loading model to compare the results\n",
    "model = pickle.load(open('/home/re91921z@nimbus.local/Documentos/DataScience/ConnectPET/connectPET_v01.pkl','rb'))"
   ]
  },
  {
   "cell_type": "code",
   "execution_count": 58,
   "metadata": {},
   "outputs": [],
   "source": [
    "df1 = df_validation.copy()"
   ]
  },
  {
   "cell_type": "code",
   "execution_count": 73,
   "metadata": {},
   "outputs": [],
   "source": [
    "############################################################################################################################################################################\n",
    "#                                                                  Projeto ConnectPet                                                                                      #\n",
    "#                                                                   Testar o modelo                                                                                        #\n",
    "#                                                                                                                                                                          #\n",
    "#                                                                                                                                                                          #\n",
    "############################################################################################################################################################################"
   ]
  },
  {
   "cell_type": "code",
   "execution_count": 59,
   "metadata": {},
   "outputs": [],
   "source": [
    "prediction = df_validation.drop(['activity'],axis=1)\n",
    "prediction\n",
    "pred = pd.DataFrame(prediction.T)\n",
    "pred1 = pred.T"
   ]
  },
  {
   "cell_type": "code",
   "execution_count": 60,
   "metadata": {},
   "outputs": [
    {
     "data": {
      "text/html": [
       "<div>\n",
       "<style scoped>\n",
       "    .dataframe tbody tr th:only-of-type {\n",
       "        vertical-align: middle;\n",
       "    }\n",
       "\n",
       "    .dataframe tbody tr th {\n",
       "        vertical-align: top;\n",
       "    }\n",
       "\n",
       "    .dataframe thead th {\n",
       "        text-align: right;\n",
       "    }\n",
       "</style>\n",
       "<table border=\"1\" class=\"dataframe\">\n",
       "  <thead>\n",
       "    <tr style=\"text-align: right;\">\n",
       "      <th></th>\n",
       "      <th>collar_id</th>\n",
       "      <th>u_id_coleira</th>\n",
       "      <th>ax</th>\n",
       "      <th>ay</th>\n",
       "      <th>az</th>\n",
       "      <th>temp</th>\n",
       "      <th>time_stamp</th>\n",
       "      <th>pet_id</th>\n",
       "      <th>size</th>\n",
       "      <th>race</th>\n",
       "      <th>age</th>\n",
       "      <th>genre</th>\n",
       "      <th>owner_id</th>\n",
       "    </tr>\n",
       "    <tr>\n",
       "      <th>index</th>\n",
       "      <th></th>\n",
       "      <th></th>\n",
       "      <th></th>\n",
       "      <th></th>\n",
       "      <th></th>\n",
       "      <th></th>\n",
       "      <th></th>\n",
       "      <th></th>\n",
       "      <th></th>\n",
       "      <th></th>\n",
       "      <th></th>\n",
       "      <th></th>\n",
       "      <th></th>\n",
       "    </tr>\n",
       "  </thead>\n",
       "  <tbody>\n",
       "    <tr>\n",
       "      <td>396375</td>\n",
       "      <td>1572312232782</td>\n",
       "      <td>2a677cfe-2fba-4926-ba00-4966d997683a</td>\n",
       "      <td>65277</td>\n",
       "      <td>65467</td>\n",
       "      <td>230</td>\n",
       "      <td>3424</td>\n",
       "      <td>1572312391710</td>\n",
       "      <td>1572312051598</td>\n",
       "      <td>SMALL</td>\n",
       "      <td>Boston Terrier</td>\n",
       "      <td></td>\n",
       "      <td>MALE</td>\n",
       "      <td>1572312030258</td>\n",
       "    </tr>\n",
       "    <tr>\n",
       "      <td>396376</td>\n",
       "      <td>1572312232782</td>\n",
       "      <td>2a677cfe-2fba-4926-ba00-4966d997683a</td>\n",
       "      <td>65366</td>\n",
       "      <td>347</td>\n",
       "      <td>1754</td>\n",
       "      <td>3488</td>\n",
       "      <td>1572312391810</td>\n",
       "      <td>1572312051598</td>\n",
       "      <td>SMALL</td>\n",
       "      <td>Boston Terrier</td>\n",
       "      <td></td>\n",
       "      <td>MALE</td>\n",
       "      <td>1572312030258</td>\n",
       "    </tr>\n",
       "    <tr>\n",
       "      <td>396377</td>\n",
       "      <td>1572312232782</td>\n",
       "      <td>2a677cfe-2fba-4926-ba00-4966d997683a</td>\n",
       "      <td>65094</td>\n",
       "      <td>145</td>\n",
       "      <td>2376</td>\n",
       "      <td>3408</td>\n",
       "      <td>1572312391910</td>\n",
       "      <td>1572312051598</td>\n",
       "      <td>SMALL</td>\n",
       "      <td>Boston Terrier</td>\n",
       "      <td></td>\n",
       "      <td>MALE</td>\n",
       "      <td>1572312030258</td>\n",
       "    </tr>\n",
       "    <tr>\n",
       "      <td>396378</td>\n",
       "      <td>1572312232782</td>\n",
       "      <td>2a677cfe-2fba-4926-ba00-4966d997683a</td>\n",
       "      <td>65278</td>\n",
       "      <td>88</td>\n",
       "      <td>2159</td>\n",
       "      <td>3424</td>\n",
       "      <td>1572312392010</td>\n",
       "      <td>1572312051598</td>\n",
       "      <td>SMALL</td>\n",
       "      <td>Boston Terrier</td>\n",
       "      <td></td>\n",
       "      <td>MALE</td>\n",
       "      <td>1572312030258</td>\n",
       "    </tr>\n",
       "    <tr>\n",
       "      <td>396379</td>\n",
       "      <td>1572312232782</td>\n",
       "      <td>2a677cfe-2fba-4926-ba00-4966d997683a</td>\n",
       "      <td>1</td>\n",
       "      <td>736</td>\n",
       "      <td>1847</td>\n",
       "      <td>3408</td>\n",
       "      <td>1572312392110</td>\n",
       "      <td>1572312051598</td>\n",
       "      <td>SMALL</td>\n",
       "      <td>Boston Terrier</td>\n",
       "      <td></td>\n",
       "      <td>MALE</td>\n",
       "      <td>1572312030258</td>\n",
       "    </tr>\n",
       "    <tr>\n",
       "      <td>...</td>\n",
       "      <td>...</td>\n",
       "      <td>...</td>\n",
       "      <td>...</td>\n",
       "      <td>...</td>\n",
       "      <td>...</td>\n",
       "      <td>...</td>\n",
       "      <td>...</td>\n",
       "      <td>...</td>\n",
       "      <td>...</td>\n",
       "      <td>...</td>\n",
       "      <td>...</td>\n",
       "      <td>...</td>\n",
       "      <td>...</td>\n",
       "    </tr>\n",
       "    <tr>\n",
       "      <td>397378</td>\n",
       "      <td>1572312232782</td>\n",
       "      <td>2a677cfe-2fba-4926-ba00-4966d997683a</td>\n",
       "      <td>396</td>\n",
       "      <td>63448</td>\n",
       "      <td>64539</td>\n",
       "      <td>3296</td>\n",
       "      <td>1572312497830</td>\n",
       "      <td>1572312051598</td>\n",
       "      <td>SMALL</td>\n",
       "      <td>Boston Terrier</td>\n",
       "      <td></td>\n",
       "      <td>MALE</td>\n",
       "      <td>1572312030258</td>\n",
       "    </tr>\n",
       "    <tr>\n",
       "      <td>397379</td>\n",
       "      <td>1572312232782</td>\n",
       "      <td>2a677cfe-2fba-4926-ba00-4966d997683a</td>\n",
       "      <td>507</td>\n",
       "      <td>63624</td>\n",
       "      <td>64893</td>\n",
       "      <td>3248</td>\n",
       "      <td>1572312497930</td>\n",
       "      <td>1572312051598</td>\n",
       "      <td>SMALL</td>\n",
       "      <td>Boston Terrier</td>\n",
       "      <td></td>\n",
       "      <td>MALE</td>\n",
       "      <td>1572312030258</td>\n",
       "    </tr>\n",
       "    <tr>\n",
       "      <td>397380</td>\n",
       "      <td>1572312232782</td>\n",
       "      <td>2a677cfe-2fba-4926-ba00-4966d997683a</td>\n",
       "      <td>299</td>\n",
       "      <td>63348</td>\n",
       "      <td>65149</td>\n",
       "      <td>3296</td>\n",
       "      <td>1572312498030</td>\n",
       "      <td>1572312051598</td>\n",
       "      <td>SMALL</td>\n",
       "      <td>Boston Terrier</td>\n",
       "      <td></td>\n",
       "      <td>MALE</td>\n",
       "      <td>1572312030258</td>\n",
       "    </tr>\n",
       "    <tr>\n",
       "      <td>397381</td>\n",
       "      <td>1572312232782</td>\n",
       "      <td>2a677cfe-2fba-4926-ba00-4966d997683a</td>\n",
       "      <td>655</td>\n",
       "      <td>63614</td>\n",
       "      <td>232</td>\n",
       "      <td>3312</td>\n",
       "      <td>1572312498130</td>\n",
       "      <td>1572312051598</td>\n",
       "      <td>SMALL</td>\n",
       "      <td>Boston Terrier</td>\n",
       "      <td></td>\n",
       "      <td>MALE</td>\n",
       "      <td>1572312030258</td>\n",
       "    </tr>\n",
       "    <tr>\n",
       "      <td>397382</td>\n",
       "      <td>1572312232782</td>\n",
       "      <td>2a677cfe-2fba-4926-ba00-4966d997683a</td>\n",
       "      <td>331</td>\n",
       "      <td>63163</td>\n",
       "      <td>65420</td>\n",
       "      <td>3264</td>\n",
       "      <td>1572312498230</td>\n",
       "      <td>1572312051598</td>\n",
       "      <td>SMALL</td>\n",
       "      <td>Boston Terrier</td>\n",
       "      <td></td>\n",
       "      <td>MALE</td>\n",
       "      <td>1572312030258</td>\n",
       "    </tr>\n",
       "  </tbody>\n",
       "</table>\n",
       "<p>1008 rows × 13 columns</p>\n",
       "</div>"
      ],
      "text/plain": [
       "            collar_id                          u_id_coleira     ax     ay  \\\n",
       "index                                                                       \n",
       "396375  1572312232782  2a677cfe-2fba-4926-ba00-4966d997683a  65277  65467   \n",
       "396376  1572312232782  2a677cfe-2fba-4926-ba00-4966d997683a  65366    347   \n",
       "396377  1572312232782  2a677cfe-2fba-4926-ba00-4966d997683a  65094    145   \n",
       "396378  1572312232782  2a677cfe-2fba-4926-ba00-4966d997683a  65278     88   \n",
       "396379  1572312232782  2a677cfe-2fba-4926-ba00-4966d997683a      1    736   \n",
       "...               ...                                   ...    ...    ...   \n",
       "397378  1572312232782  2a677cfe-2fba-4926-ba00-4966d997683a    396  63448   \n",
       "397379  1572312232782  2a677cfe-2fba-4926-ba00-4966d997683a    507  63624   \n",
       "397380  1572312232782  2a677cfe-2fba-4926-ba00-4966d997683a    299  63348   \n",
       "397381  1572312232782  2a677cfe-2fba-4926-ba00-4966d997683a    655  63614   \n",
       "397382  1572312232782  2a677cfe-2fba-4926-ba00-4966d997683a    331  63163   \n",
       "\n",
       "           az  temp     time_stamp         pet_id   size            race age  \\\n",
       "index                                                                          \n",
       "396375    230  3424  1572312391710  1572312051598  SMALL  Boston Terrier       \n",
       "396376   1754  3488  1572312391810  1572312051598  SMALL  Boston Terrier       \n",
       "396377   2376  3408  1572312391910  1572312051598  SMALL  Boston Terrier       \n",
       "396378   2159  3424  1572312392010  1572312051598  SMALL  Boston Terrier       \n",
       "396379   1847  3408  1572312392110  1572312051598  SMALL  Boston Terrier       \n",
       "...       ...   ...            ...            ...    ...             ...  ..   \n",
       "397378  64539  3296  1572312497830  1572312051598  SMALL  Boston Terrier       \n",
       "397379  64893  3248  1572312497930  1572312051598  SMALL  Boston Terrier       \n",
       "397380  65149  3296  1572312498030  1572312051598  SMALL  Boston Terrier       \n",
       "397381    232  3312  1572312498130  1572312051598  SMALL  Boston Terrier       \n",
       "397382  65420  3264  1572312498230  1572312051598  SMALL  Boston Terrier       \n",
       "\n",
       "       genre       owner_id  \n",
       "index                        \n",
       "396375  MALE  1572312030258  \n",
       "396376  MALE  1572312030258  \n",
       "396377  MALE  1572312030258  \n",
       "396378  MALE  1572312030258  \n",
       "396379  MALE  1572312030258  \n",
       "...      ...            ...  \n",
       "397378  MALE  1572312030258  \n",
       "397379  MALE  1572312030258  \n",
       "397380  MALE  1572312030258  \n",
       "397381  MALE  1572312030258  \n",
       "397382  MALE  1572312030258  \n",
       "\n",
       "[1008 rows x 13 columns]"
      ]
     },
     "execution_count": 60,
     "metadata": {},
     "output_type": "execute_result"
    }
   ],
   "source": [
    "pred1"
   ]
  },
  {
   "cell_type": "code",
   "execution_count": 61,
   "metadata": {},
   "outputs": [],
   "source": [
    "y_pred = model.predict(pred1)"
   ]
  },
  {
   "cell_type": "code",
   "execution_count": 34,
   "metadata": {},
   "outputs": [
    {
     "data": {
      "text/plain": [
       "(304,)"
      ]
     },
     "execution_count": 34,
     "metadata": {},
     "output_type": "execute_result"
    }
   ],
   "source": [
    "y_pred.shape"
   ]
  },
  {
   "cell_type": "code",
   "execution_count": 35,
   "metadata": {},
   "outputs": [
    {
     "data": {
      "text/plain": [
       "(304,)"
      ]
     },
     "execution_count": 35,
     "metadata": {},
     "output_type": "execute_result"
    }
   ],
   "source": [
    "df_validation['activity'].values.shape"
   ]
  },
  {
   "cell_type": "code",
   "execution_count": 36,
   "metadata": {},
   "outputs": [
    {
     "data": {
      "text/plain": [
       "array(['Balançando a cabeça', 'Balançando a cabeça',\n",
       "       'Balançando a cabeça', 'Balançando a cabeça', 'A orelha com  pata',\n",
       "       'A orelha com  pata', 'A orelha com  pata', 'A orelha com  pata',\n",
       "       'A orelha com  pata', 'Se lambendo', 'Se lambendo', 'Se lambendo',\n",
       "       'Se lambendo', 'Se lambendo', 'Se lambendo', 'Latindo', 'Latindo',\n",
       "       'Mordendo o rabo', 'Mordendo o rabo', 'A orelha com  pata',\n",
       "       'A orelha com  pata', 'A orelha com  pata', 'A orelha com  pata',\n",
       "       'A orelha com  pata', 'A orelha com  pata', 'Pulando', 'Pulando',\n",
       "       'Pulando', 'Pulando', 'Pulando', 'Comendo/Bebendo',\n",
       "       'Comendo/Bebendo', 'Comendo/Bebendo', 'Comendo/Bebendo',\n",
       "       'Comendo/Bebendo', 'Comendo/Bebendo', 'Correndo', 'Correndo',\n",
       "       'Correndo', 'Correndo', 'Sentado', 'Sentado', 'Sentado', 'Pulando',\n",
       "       'Pulando', 'Pulando', 'Pulando', 'Pulando', 'Pulando', 'Pulando',\n",
       "       'Pulando', 'Pulando', 'Pulando', 'Balançando a cabeça',\n",
       "       'Balançando a cabeça', 'Balançando a cabeça',\n",
       "       'Balançando a cabeça', 'A orelha com  pata', 'A orelha com  pata',\n",
       "       'A orelha com  pata', 'Se lambendo', 'Se lambendo', 'Se lambendo',\n",
       "       'Se lambendo', 'Se lambendo', 'Se lambendo', 'Se lambendo',\n",
       "       'Se lambendo', 'Se lambendo', 'Se lambendo', 'Se lambendo',\n",
       "       'Se lambendo', 'Se lambendo', 'Se lambendo', 'Se lambendo',\n",
       "       'Se lambendo', 'Se lambendo', 'Se lambendo', 'Se lambendo',\n",
       "       'Se lambendo', 'Se lambendo', 'Se lambendo', 'Se lambendo',\n",
       "       'Se lambendo', 'Se lambendo', 'Se lambendo', 'Se lambendo',\n",
       "       'Se lambendo', 'Se lambendo', 'Se lambendo', 'Se lambendo',\n",
       "       'Se lambendo', 'Se lambendo', 'Se lambendo', 'Se lambendo',\n",
       "       'Latindo', 'Latindo', 'Latindo', 'Latindo', 'Latindo', 'Latindo',\n",
       "       'Latindo', 'Dormindo ou deitado', 'Dormindo ou deitado',\n",
       "       'Dormindo ou deitado', 'Dormindo ou deitado',\n",
       "       'Dormindo ou deitado', 'Dormindo ou deitado',\n",
       "       'Dormindo ou deitado', 'Dormindo ou deitado',\n",
       "       'Dormindo ou deitado', 'Dormindo ou deitado',\n",
       "       'Dormindo ou deitado', 'Dormindo ou deitado',\n",
       "       'Dormindo ou deitado', 'Dormindo ou deitado',\n",
       "       'Dormindo ou deitado', 'Dormindo ou deitado',\n",
       "       'Dormindo ou deitado', 'Dormindo ou deitado',\n",
       "       'Dormindo ou deitado', 'Dormindo ou deitado',\n",
       "       'Dormindo ou deitado', 'Dormindo ou deitado',\n",
       "       'Dormindo ou deitado', 'Dormindo ou deitado', 'Sentado', 'Sentado',\n",
       "       'Sentado', 'Sentado', 'Sentado', 'Sentado', 'Sentado', 'Sentado',\n",
       "       'Sentado', 'Sentado', 'Sentado', 'Sentado', 'Sentado', 'Sentado',\n",
       "       'Sentado', 'Sentado', 'Sentado', 'Sentado', 'Sentado', 'Sentado',\n",
       "       'Sentado', 'Sentado', 'Sentado', 'Sentado', 'Sentado', 'Sentado',\n",
       "       'Sentado', 'Sentado', 'Sentado', 'Sentado', 'Sentado', 'Sentado',\n",
       "       'Sentado', 'Sentado', 'Sentado', 'Sentado', 'Sentado', 'Sentado',\n",
       "       'Sentado', 'Sentado', 'Sentado', 'Sentado', 'Sentado', 'Sentado',\n",
       "       'Sentado', 'Sentado', 'Sentado', 'Sentado', 'Sentado', 'Sentado',\n",
       "       'Sentado', 'Sentado', 'Sentado', 'Sentado', 'Sentado', 'Sentado',\n",
       "       'Sentado', 'Sentado', 'Sentado', 'Sentado', 'Sentado', 'Sentado',\n",
       "       'Sentado', 'Comendo/Bebendo', 'Comendo/Bebendo', 'Comendo/Bebendo',\n",
       "       'Comendo/Bebendo', 'Comendo/Bebendo', 'Pulando', 'Pulando',\n",
       "       'Pulando', 'Pulando', 'Pulando', 'Pulando', 'Correndo', 'Correndo',\n",
       "       'Correndo', 'Correndo', 'A orelha com  pata', 'A orelha com  pata',\n",
       "       'A orelha com  pata', 'Balançando a cabeça', 'Balançando a cabeça',\n",
       "       'Balançando a cabeça', 'Balançando a cabeça', 'Se lambendo',\n",
       "       'Se lambendo', 'Se lambendo', 'Se lambendo', 'Se lambendo',\n",
       "       'Se lambendo', 'Se lambendo', 'Se lambendo', 'Se lambendo',\n",
       "       'Se lambendo', 'Se lambendo', 'Se lambendo', 'Se lambendo',\n",
       "       'Se lambendo', 'Se lambendo', 'Se lambendo', 'Se lambendo',\n",
       "       'Balançando a cabeça', 'Balançando a cabeça',\n",
       "       'Balançando a cabeça', 'Balançando a cabeça',\n",
       "       'Balançando a cabeça', 'Balançando a cabeça',\n",
       "       'Balançando a cabeça', 'Balançando a cabeça',\n",
       "       'Balançando a cabeça', 'Balançando a cabeça',\n",
       "       'Balançando a cabeça', 'Se lambendo', 'Se lambendo', 'Se lambendo',\n",
       "       'Se lambendo', 'Se lambendo', 'Se lambendo', 'Se lambendo',\n",
       "       'Se lambendo', 'Se lambendo', 'Se lambendo', 'Se lambendo',\n",
       "       'Se lambendo', 'A orelha com  pata', 'A orelha com  pata',\n",
       "       'A orelha com  pata', 'A orelha com  pata', 'A orelha com  pata',\n",
       "       'A orelha com  pata', 'A orelha com  pata', 'A orelha com  pata',\n",
       "       'A orelha com  pata', 'Se lambendo', 'Se lambendo', 'Se lambendo',\n",
       "       'Se lambendo', 'Se lambendo', 'Se lambendo', 'Se lambendo',\n",
       "       'Latindo', 'Latindo', 'Latindo', 'Latindo', 'Latindo', 'Latindo',\n",
       "       'Latindo', 'Latindo', 'Mordendo o rabo', 'Mordendo o rabo',\n",
       "       'Mordendo o rabo', 'Mordendo o rabo', 'Mordendo o rabo',\n",
       "       'Mordendo o rabo', 'A orelha com  pata', 'A orelha com  pata',\n",
       "       'A orelha com  pata', 'A orelha com  pata', 'A orelha com  pata',\n",
       "       'A orelha com  pata', 'A orelha com  pata', 'A orelha com  pata',\n",
       "       'A orelha com  pata', 'A orelha com  pata', 'A orelha com  pata',\n",
       "       'A orelha com  pata', 'A orelha com  pata', 'A orelha com  pata',\n",
       "       'A orelha com  pata', 'A orelha com  pata', 'A orelha com  pata',\n",
       "       'A orelha com  pata', 'A orelha com  pata', 'A orelha com  pata',\n",
       "       'A orelha com  pata', 'Correndo', 'Correndo'], dtype=object)"
      ]
     },
     "execution_count": 36,
     "metadata": {},
     "output_type": "execute_result"
    }
   ],
   "source": [
    "df_validation['activity'].values"
   ]
  },
  {
   "cell_type": "code",
   "execution_count": 65,
   "metadata": {},
   "outputs": [
    {
     "data": {
      "text/plain": [
       "Andando    1008\n",
       "Name: activity, dtype: int64"
      ]
     },
     "execution_count": 65,
     "metadata": {},
     "output_type": "execute_result"
    }
   ],
   "source": [
    "df_validation['activity'].value_counts()"
   ]
  },
  {
   "cell_type": "code",
   "execution_count": 63,
   "metadata": {},
   "outputs": [
    {
     "data": {
      "text/html": [
       "<div>\n",
       "<style scoped>\n",
       "    .dataframe tbody tr th:only-of-type {\n",
       "        vertical-align: middle;\n",
       "    }\n",
       "\n",
       "    .dataframe tbody tr th {\n",
       "        vertical-align: top;\n",
       "    }\n",
       "\n",
       "    .dataframe thead th {\n",
       "        text-align: right;\n",
       "    }\n",
       "</style>\n",
       "<table border=\"1\" class=\"dataframe\">\n",
       "  <thead>\n",
       "    <tr style=\"text-align: right;\">\n",
       "      <th></th>\n",
       "      <th>activity</th>\n",
       "      <th>collar_id</th>\n",
       "      <th>u_id_coleira</th>\n",
       "      <th>ax</th>\n",
       "      <th>ay</th>\n",
       "      <th>az</th>\n",
       "      <th>temp</th>\n",
       "      <th>time_stamp</th>\n",
       "      <th>pet_id</th>\n",
       "      <th>size</th>\n",
       "      <th>race</th>\n",
       "      <th>age</th>\n",
       "      <th>genre</th>\n",
       "      <th>owner_id</th>\n",
       "    </tr>\n",
       "    <tr>\n",
       "      <th>index</th>\n",
       "      <th></th>\n",
       "      <th></th>\n",
       "      <th></th>\n",
       "      <th></th>\n",
       "      <th></th>\n",
       "      <th></th>\n",
       "      <th></th>\n",
       "      <th></th>\n",
       "      <th></th>\n",
       "      <th></th>\n",
       "      <th></th>\n",
       "      <th></th>\n",
       "      <th></th>\n",
       "      <th></th>\n",
       "    </tr>\n",
       "  </thead>\n",
       "  <tbody>\n",
       "    <tr>\n",
       "      <td>396375</td>\n",
       "      <td>Andando</td>\n",
       "      <td>1572312232782</td>\n",
       "      <td>2a677cfe-2fba-4926-ba00-4966d997683a</td>\n",
       "      <td>65277</td>\n",
       "      <td>65467</td>\n",
       "      <td>230</td>\n",
       "      <td>3424</td>\n",
       "      <td>1572312391710</td>\n",
       "      <td>1572312051598</td>\n",
       "      <td>SMALL</td>\n",
       "      <td>Boston Terrier</td>\n",
       "      <td></td>\n",
       "      <td>MALE</td>\n",
       "      <td>1572312030258</td>\n",
       "    </tr>\n",
       "    <tr>\n",
       "      <td>396376</td>\n",
       "      <td>Andando</td>\n",
       "      <td>1572312232782</td>\n",
       "      <td>2a677cfe-2fba-4926-ba00-4966d997683a</td>\n",
       "      <td>65366</td>\n",
       "      <td>347</td>\n",
       "      <td>1754</td>\n",
       "      <td>3488</td>\n",
       "      <td>1572312391810</td>\n",
       "      <td>1572312051598</td>\n",
       "      <td>SMALL</td>\n",
       "      <td>Boston Terrier</td>\n",
       "      <td></td>\n",
       "      <td>MALE</td>\n",
       "      <td>1572312030258</td>\n",
       "    </tr>\n",
       "    <tr>\n",
       "      <td>396377</td>\n",
       "      <td>Andando</td>\n",
       "      <td>1572312232782</td>\n",
       "      <td>2a677cfe-2fba-4926-ba00-4966d997683a</td>\n",
       "      <td>65094</td>\n",
       "      <td>145</td>\n",
       "      <td>2376</td>\n",
       "      <td>3408</td>\n",
       "      <td>1572312391910</td>\n",
       "      <td>1572312051598</td>\n",
       "      <td>SMALL</td>\n",
       "      <td>Boston Terrier</td>\n",
       "      <td></td>\n",
       "      <td>MALE</td>\n",
       "      <td>1572312030258</td>\n",
       "    </tr>\n",
       "    <tr>\n",
       "      <td>396378</td>\n",
       "      <td>Andando</td>\n",
       "      <td>1572312232782</td>\n",
       "      <td>2a677cfe-2fba-4926-ba00-4966d997683a</td>\n",
       "      <td>65278</td>\n",
       "      <td>88</td>\n",
       "      <td>2159</td>\n",
       "      <td>3424</td>\n",
       "      <td>1572312392010</td>\n",
       "      <td>1572312051598</td>\n",
       "      <td>SMALL</td>\n",
       "      <td>Boston Terrier</td>\n",
       "      <td></td>\n",
       "      <td>MALE</td>\n",
       "      <td>1572312030258</td>\n",
       "    </tr>\n",
       "    <tr>\n",
       "      <td>396379</td>\n",
       "      <td>Andando</td>\n",
       "      <td>1572312232782</td>\n",
       "      <td>2a677cfe-2fba-4926-ba00-4966d997683a</td>\n",
       "      <td>1</td>\n",
       "      <td>736</td>\n",
       "      <td>1847</td>\n",
       "      <td>3408</td>\n",
       "      <td>1572312392110</td>\n",
       "      <td>1572312051598</td>\n",
       "      <td>SMALL</td>\n",
       "      <td>Boston Terrier</td>\n",
       "      <td></td>\n",
       "      <td>MALE</td>\n",
       "      <td>1572312030258</td>\n",
       "    </tr>\n",
       "    <tr>\n",
       "      <td>...</td>\n",
       "      <td>...</td>\n",
       "      <td>...</td>\n",
       "      <td>...</td>\n",
       "      <td>...</td>\n",
       "      <td>...</td>\n",
       "      <td>...</td>\n",
       "      <td>...</td>\n",
       "      <td>...</td>\n",
       "      <td>...</td>\n",
       "      <td>...</td>\n",
       "      <td>...</td>\n",
       "      <td>...</td>\n",
       "      <td>...</td>\n",
       "      <td>...</td>\n",
       "    </tr>\n",
       "    <tr>\n",
       "      <td>397378</td>\n",
       "      <td>Andando</td>\n",
       "      <td>1572312232782</td>\n",
       "      <td>2a677cfe-2fba-4926-ba00-4966d997683a</td>\n",
       "      <td>396</td>\n",
       "      <td>63448</td>\n",
       "      <td>64539</td>\n",
       "      <td>3296</td>\n",
       "      <td>1572312497830</td>\n",
       "      <td>1572312051598</td>\n",
       "      <td>SMALL</td>\n",
       "      <td>Boston Terrier</td>\n",
       "      <td></td>\n",
       "      <td>MALE</td>\n",
       "      <td>1572312030258</td>\n",
       "    </tr>\n",
       "    <tr>\n",
       "      <td>397379</td>\n",
       "      <td>Andando</td>\n",
       "      <td>1572312232782</td>\n",
       "      <td>2a677cfe-2fba-4926-ba00-4966d997683a</td>\n",
       "      <td>507</td>\n",
       "      <td>63624</td>\n",
       "      <td>64893</td>\n",
       "      <td>3248</td>\n",
       "      <td>1572312497930</td>\n",
       "      <td>1572312051598</td>\n",
       "      <td>SMALL</td>\n",
       "      <td>Boston Terrier</td>\n",
       "      <td></td>\n",
       "      <td>MALE</td>\n",
       "      <td>1572312030258</td>\n",
       "    </tr>\n",
       "    <tr>\n",
       "      <td>397380</td>\n",
       "      <td>Andando</td>\n",
       "      <td>1572312232782</td>\n",
       "      <td>2a677cfe-2fba-4926-ba00-4966d997683a</td>\n",
       "      <td>299</td>\n",
       "      <td>63348</td>\n",
       "      <td>65149</td>\n",
       "      <td>3296</td>\n",
       "      <td>1572312498030</td>\n",
       "      <td>1572312051598</td>\n",
       "      <td>SMALL</td>\n",
       "      <td>Boston Terrier</td>\n",
       "      <td></td>\n",
       "      <td>MALE</td>\n",
       "      <td>1572312030258</td>\n",
       "    </tr>\n",
       "    <tr>\n",
       "      <td>397381</td>\n",
       "      <td>Andando</td>\n",
       "      <td>1572312232782</td>\n",
       "      <td>2a677cfe-2fba-4926-ba00-4966d997683a</td>\n",
       "      <td>655</td>\n",
       "      <td>63614</td>\n",
       "      <td>232</td>\n",
       "      <td>3312</td>\n",
       "      <td>1572312498130</td>\n",
       "      <td>1572312051598</td>\n",
       "      <td>SMALL</td>\n",
       "      <td>Boston Terrier</td>\n",
       "      <td></td>\n",
       "      <td>MALE</td>\n",
       "      <td>1572312030258</td>\n",
       "    </tr>\n",
       "    <tr>\n",
       "      <td>397382</td>\n",
       "      <td>Andando</td>\n",
       "      <td>1572312232782</td>\n",
       "      <td>2a677cfe-2fba-4926-ba00-4966d997683a</td>\n",
       "      <td>331</td>\n",
       "      <td>63163</td>\n",
       "      <td>65420</td>\n",
       "      <td>3264</td>\n",
       "      <td>1572312498230</td>\n",
       "      <td>1572312051598</td>\n",
       "      <td>SMALL</td>\n",
       "      <td>Boston Terrier</td>\n",
       "      <td></td>\n",
       "      <td>MALE</td>\n",
       "      <td>1572312030258</td>\n",
       "    </tr>\n",
       "  </tbody>\n",
       "</table>\n",
       "<p>1008 rows × 14 columns</p>\n",
       "</div>"
      ],
      "text/plain": [
       "       activity      collar_id                          u_id_coleira     ax  \\\n",
       "index                                                                         \n",
       "396375  Andando  1572312232782  2a677cfe-2fba-4926-ba00-4966d997683a  65277   \n",
       "396376  Andando  1572312232782  2a677cfe-2fba-4926-ba00-4966d997683a  65366   \n",
       "396377  Andando  1572312232782  2a677cfe-2fba-4926-ba00-4966d997683a  65094   \n",
       "396378  Andando  1572312232782  2a677cfe-2fba-4926-ba00-4966d997683a  65278   \n",
       "396379  Andando  1572312232782  2a677cfe-2fba-4926-ba00-4966d997683a      1   \n",
       "...         ...            ...                                   ...    ...   \n",
       "397378  Andando  1572312232782  2a677cfe-2fba-4926-ba00-4966d997683a    396   \n",
       "397379  Andando  1572312232782  2a677cfe-2fba-4926-ba00-4966d997683a    507   \n",
       "397380  Andando  1572312232782  2a677cfe-2fba-4926-ba00-4966d997683a    299   \n",
       "397381  Andando  1572312232782  2a677cfe-2fba-4926-ba00-4966d997683a    655   \n",
       "397382  Andando  1572312232782  2a677cfe-2fba-4926-ba00-4966d997683a    331   \n",
       "\n",
       "           ay     az  temp     time_stamp         pet_id   size  \\\n",
       "index                                                             \n",
       "396375  65467    230  3424  1572312391710  1572312051598  SMALL   \n",
       "396376    347   1754  3488  1572312391810  1572312051598  SMALL   \n",
       "396377    145   2376  3408  1572312391910  1572312051598  SMALL   \n",
       "396378     88   2159  3424  1572312392010  1572312051598  SMALL   \n",
       "396379    736   1847  3408  1572312392110  1572312051598  SMALL   \n",
       "...       ...    ...   ...            ...            ...    ...   \n",
       "397378  63448  64539  3296  1572312497830  1572312051598  SMALL   \n",
       "397379  63624  64893  3248  1572312497930  1572312051598  SMALL   \n",
       "397380  63348  65149  3296  1572312498030  1572312051598  SMALL   \n",
       "397381  63614    232  3312  1572312498130  1572312051598  SMALL   \n",
       "397382  63163  65420  3264  1572312498230  1572312051598  SMALL   \n",
       "\n",
       "                  race age genre       owner_id  \n",
       "index                                            \n",
       "396375  Boston Terrier      MALE  1572312030258  \n",
       "396376  Boston Terrier      MALE  1572312030258  \n",
       "396377  Boston Terrier      MALE  1572312030258  \n",
       "396378  Boston Terrier      MALE  1572312030258  \n",
       "396379  Boston Terrier      MALE  1572312030258  \n",
       "...                ...  ..   ...            ...  \n",
       "397378  Boston Terrier      MALE  1572312030258  \n",
       "397379  Boston Terrier      MALE  1572312030258  \n",
       "397380  Boston Terrier      MALE  1572312030258  \n",
       "397381  Boston Terrier      MALE  1572312030258  \n",
       "397382  Boston Terrier      MALE  1572312030258  \n",
       "\n",
       "[1008 rows x 14 columns]"
      ]
     },
     "execution_count": 63,
     "metadata": {},
     "output_type": "execute_result"
    }
   ],
   "source": [
    "df_validation[df_validation['activity'] == 'Andando']"
   ]
  },
  {
   "cell_type": "code",
   "execution_count": 64,
   "metadata": {},
   "outputs": [
    {
     "name": "stdout",
     "output_type": "stream",
     "text": [
      "              precision    recall  f1-score   support\n",
      "\n",
      "     Andando       1.00      1.00      1.00      1008\n",
      "\n",
      "    accuracy                           1.00      1008\n",
      "   macro avg       1.00      1.00      1.00      1008\n",
      "weighted avg       1.00      1.00      1.00      1008\n",
      "\n"
     ]
    }
   ],
   "source": [
    "print(classification_report(df_validation['activity'].values, y_pred))"
   ]
  },
  {
   "cell_type": "code",
   "execution_count": 77,
   "metadata": {},
   "outputs": [],
   "source": [
    "#model.steps"
   ]
  },
  {
   "cell_type": "code",
   "execution_count": 78,
   "metadata": {},
   "outputs": [
    {
     "data": {
      "text/plain": [
       "'labels ={\\n  0: \"Andando\",\\n  1: \"Dormindo ou deitado\",\\n  2: \"Se lambendo\",\\n  3: \"Sentado\",\\n  4: \"Latindo\",\\n  5: \"Coçando a orelha\",\\n  6: \"Mordendo o rabo\",\\n  7: \"Comendo / bebendo\",\\n  8: \"Balançando a cabeça\",\\n  9: \"A orelha com  pata\",\\n  10: \"Pulando\",\\n  11: \"Comendo/Bebendo\",\\n  12: \"Correndo\"\\n    \\n}'"
      ]
     },
     "execution_count": 78,
     "metadata": {},
     "output_type": "execute_result"
    }
   ],
   "source": [
    "\"\"\"labels ={\n",
    "  0: \"Andando\",\n",
    "  1: \"Dormindo ou deitado\",\n",
    "  2: \"Se lambendo\",\n",
    "  3: \"Sentado\",\n",
    "  4: \"Latindo\",\n",
    "  5: \"Coçando a orelha\",\n",
    "  6: \"Mordendo o rabo\",\n",
    "  7: \"Comendo / bebendo\",\n",
    "  8: \"Balançando a cabeça\",\n",
    "  9: \"A orelha com  pata\",\n",
    "  10: \"Pulando\",\n",
    "  11: \"Comendo/Bebendo\",\n",
    "  12: \"Correndo\"\n",
    "    \n",
    "}\"\"\""
   ]
  },
  {
   "cell_type": "code",
   "execution_count": null,
   "metadata": {},
   "outputs": [],
   "source": []
  },
  {
   "cell_type": "code",
   "execution_count": null,
   "metadata": {},
   "outputs": [],
   "source": []
  }
 ],
 "metadata": {
  "kernelspec": {
   "display_name": "Python 3",
   "language": "python",
   "name": "python3"
  },
  "language_info": {
   "codemirror_mode": {
    "name": "ipython",
    "version": 3
   },
   "file_extension": ".py",
   "mimetype": "text/x-python",
   "name": "python",
   "nbconvert_exporter": "python",
   "pygments_lexer": "ipython3",
   "version": "3.7.4"
  }
 },
 "nbformat": 4,
 "nbformat_minor": 4
}
