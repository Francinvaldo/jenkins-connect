{
 "cells": [
  {
   "cell_type": "code",
   "execution_count": 47,
   "metadata": {},
   "outputs": [],
   "source": [
    "import warnings\n",
    "warnings.filterwarnings('ignore')\n",
    "\n",
    "import pandas as pd\n",
    "import numpy as np\n",
    "import matplotlib.pyplot as plt\n",
    "import pandas as pd\n",
    "import numpy as np\n",
    "import dask.dataframe as dd\n",
    "import matplotlib.pyplot as plt\n",
    "import seaborn as sns;sns.set(context='notebook', palette='pastel', style='darkgrid')\n",
    "%matplotlib inline\n",
    "from dtw import dtw\n",
    "import math\n",
    "import ctypes\n",
    "from pyspark.sql.types import DoubleType\n",
    "from pyspark.sql.types import StringType\n",
    "from pyspark.sql.types import IntegerType\n",
    "from pyspark.sql.functions import udf , array\n",
    "from pyspark.sql import functions as F\n",
    "from pyspark.sql.functions import unix_timestamp\n",
    "from pyspark.sql.functions import from_unixtime\n",
    "from pyspark.sql.types import DataType\n",
    "from pyspark.sql.types import LongType\n",
    "from pyspark.sql.types import  FloatType\n",
    "from pyspark.sql.functions import lit\n",
    "from pyspark.sql.functions import col\n",
    "import numpy as np\n",
    "from scipy.spatial.distance import euclidean\n",
    "from fastdtw import fastdtw\n",
    "import os"
   ]
  },
  {
   "cell_type": "code",
   "execution_count": 2,
   "metadata": {},
   "outputs": [],
   "source": [
    "df_spark = spark.read.load(\"/home/datasciencemlops/Documents/DataScience/Connect/ConnectPET/data/db_merged.parquet/*.parquet\")"
   ]
  },
  {
   "cell_type": "code",
   "execution_count": 3,
   "metadata": {},
   "outputs": [
    {
     "data": {
      "text/plain": [
       "DataFrame[index: bigint, activity: string, collar_id: bigint, u_id_coleira: string, gx: double, gy: double, gz: double, ax: bigint, ay: bigint, az: bigint, temp: bigint, time_stamp: bigint, pet_id: bigint, size: string, race: string, age: string, genre: string, owner_id: bigint, lat: string, long: string]"
      ]
     },
     "execution_count": 3,
     "metadata": {},
     "output_type": "execute_result"
    }
   ],
   "source": [
    "df_spark.repartition(10)"
   ]
  },
  {
   "cell_type": "code",
   "execution_count": 4,
   "metadata": {},
   "outputs": [
    {
     "data": {
      "text/plain": [
       "DataFrame[index: bigint, activity: string, collar_id: bigint, u_id_coleira: string, gx: double, gy: double, gz: double, ax: bigint, ay: bigint, az: bigint, temp: bigint, time_stamp: bigint, pet_id: bigint, size: string, race: string, age: string, genre: string, owner_id: bigint, lat: string, long: string]"
      ]
     },
     "execution_count": 4,
     "metadata": {},
     "output_type": "execute_result"
    }
   ],
   "source": [
    "df_spark.cache()"
   ]
  },
  {
   "cell_type": "code",
   "execution_count": 5,
   "metadata": {},
   "outputs": [],
   "source": [
    "spark = SparkSession.builder \\\n",
    "   .master(\"local\") \\\n",
    "   .appName(\"Projeto ConnetPet-SPARK\") \\\n",
    "   .config(\"spark.executor.memory\", \"5gb\") \\\n",
    "   .getOrCreate()"
   ]
  },
  {
   "cell_type": "code",
   "execution_count": 6,
   "metadata": {},
   "outputs": [],
   "source": [
    "df = df_spark[df_spark['collar_id'] == 1575546080]\n",
    "df = df.toPandas()\n",
    "df['data_'] = pd.to_datetime(df['time_stamp'],unit='ms')\n",
    "df.sort_values(by=['data_'],inplace=True)\n",
    "df = df.reset_index()"
   ]
  },
  {
   "cell_type": "code",
   "execution_count": 7,
   "metadata": {},
   "outputs": [],
   "source": [
    "df1 = spark.createDataFrame(df)"
   ]
  },
  {
   "cell_type": "code",
   "execution_count": 8,
   "metadata": {},
   "outputs": [],
   "source": [
    "def convert_values(x):\n",
    "    return  (x * 32) / 65536"
   ]
  },
  {
   "cell_type": "code",
   "execution_count": 9,
   "metadata": {},
   "outputs": [],
   "source": [
    "converter_valores_xyx = udf(lambda x : convert_values(x),FloatType())"
   ]
  },
  {
   "cell_type": "code",
   "execution_count": 10,
   "metadata": {},
   "outputs": [],
   "source": [
    "df2 = df1.withColumn('ax_',converter_valores_xyx('ax'))\\\n",
    "  .withColumn('ay_',converter_valores_xyx('ay'))\\\n",
    "  .withColumn('az_',converter_valores_xyx('az'))"
   ]
  },
  {
   "cell_type": "code",
   "execution_count": 11,
   "metadata": {},
   "outputs": [],
   "source": [
    "df3 = df2.withColumn('a_xyz_',(F.sqrt(df2['ax_']**2 +F.sqrt(df2['ay_']**2 + F.sqrt(df2['az_']**2)))))"
   ]
  },
  {
   "cell_type": "code",
   "execution_count": 12,
   "metadata": {},
   "outputs": [],
   "source": [
    "df_sample = df3.withColumn('dist',lit(np.NAN))"
   ]
  },
  {
   "cell_type": "code",
   "execution_count": 13,
   "metadata": {},
   "outputs": [],
   "source": [
    "from pyspark.sql.functions import split"
   ]
  },
  {
   "cell_type": "code",
   "execution_count": 14,
   "metadata": {},
   "outputs": [],
   "source": [
    "split_col = split(df_sample['data_'], ' ')\n",
    "df_sample = df_sample.withColumn('Data', split_col.getItem(0))\n",
    "df_sample = df_sample.withColumn('Hora', split_col.getItem(1))"
   ]
  },
  {
   "cell_type": "code",
   "execution_count": 15,
   "metadata": {},
   "outputs": [],
   "source": [
    "df_sample = df_sample.select(\n",
    "    \"*\",\n",
    "    split(\"Hora\", \":\")[0].cast(\"int\").alias(\"hour\"),\n",
    "    split(\"Hora\", \":\")[1].cast(\"int\").alias(\"minute\"),\n",
    "    split(\"Hora\", \":\")[2].cast(\"int\").alias(\"second\")\n",
    ").sort('Hora','second', ascending=True)"
   ]
  },
  {
   "cell_type": "code",
   "execution_count": 16,
   "metadata": {},
   "outputs": [],
   "source": [
    "df_sample = df_sample.withColumn(\"a_xyz_\",df_sample['a_xyz_'].cast('float'))"
   ]
  },
  {
   "cell_type": "code",
   "execution_count": null,
   "metadata": {},
   "outputs": [],
   "source": []
  },
  {
   "cell_type": "code",
   "execution_count": 17,
   "metadata": {},
   "outputs": [],
   "source": [
    "# Determines the window of sliding of a 10Hz sensor.\n",
    "jump = 10\n",
    "max_len = df_sample.count()\n",
    "count = 0"
   ]
  },
  {
   "cell_type": "code",
   "execution_count": 18,
   "metadata": {},
   "outputs": [],
   "source": [
    "# Manhattan distance is used to calculate the similarity of two sequences \n",
    "manhattan_distance = lambda x, y: np.abs(x - y)\n",
    "\n",
    "#df_sample['dist'] = None\n",
    "\n",
    "#while jump + count < max_len:\n",
    "#\n",
    "# Gets Current time window\n",
    "df_current = df_sample.where(col('level_0').between(count,count + jump))\n",
    "\n",
    "# Gets next time window\n",
    "df_next = df_sample.where(col('level_0').between(count + jump,jump * 2 + count))\n",
    "#\n",
    "# Makes sure the two windows are in the same size\n",
    "#if df_current.shape[0] < jump or df_next.shape[0] < jump:\n",
    "#    continue \n",
    "#\n",
    "# calculates similarity between the two sequences\n",
    "#d,_, _,_ = dtw(df_current['a_xyz'].values, df_next['a_xyz'].values, dist=manhattan_distance)\n",
    "#\n",
    "#\n",
    "#\n",
    "# Calculates the variance of the current wave and adds to a column\n",
    "#2019-12-05df_sample.loc[df_current.index, 'variance'] = np.var(df_current['a_xyz'].values)\n",
    "#\n",
    "# Creates a new column with the similarity\n",
    "#df_sample.loc[df_current.index, 'dist'] = d\n",
    "#\n",
    "#count = count + jump"
   ]
  },
  {
   "cell_type": "code",
   "execution_count": 19,
   "metadata": {},
   "outputs": [],
   "source": [
    "#df__ = df_current.groupBy(\"Data\")\\\n",
    "#        .agg(F.collect_list(\"a_xyz_\").alias('Data_atual'))"
   ]
  },
  {
   "cell_type": "code",
   "execution_count": 38,
   "metadata": {},
   "outputs": [],
   "source": [
    "df_ = df_current.groupBy('Data').agg(F.collect_list(\"a_xyz_\").alias('Data_atual'))"
   ]
  },
  {
   "cell_type": "code",
   "execution_count": 39,
   "metadata": {},
   "outputs": [],
   "source": [
    "df_1 = df_next.groupBy('Data').agg(F.collect_list(\"a_xyz_\").alias('proxima_data'))"
   ]
  },
  {
   "cell_type": "code",
   "execution_count": 40,
   "metadata": {},
   "outputs": [
    {
     "data": {
      "text/html": [
       "<div>\n",
       "<style scoped>\n",
       "    .dataframe tbody tr th:only-of-type {\n",
       "        vertical-align: middle;\n",
       "    }\n",
       "\n",
       "    .dataframe tbody tr th {\n",
       "        vertical-align: top;\n",
       "    }\n",
       "\n",
       "    .dataframe thead th {\n",
       "        text-align: right;\n",
       "    }\n",
       "</style>\n",
       "<table border=\"1\" class=\"dataframe\">\n",
       "  <thead>\n",
       "    <tr style=\"text-align: right;\">\n",
       "      <th></th>\n",
       "      <th>Data</th>\n",
       "      <th>Data_atual</th>\n",
       "    </tr>\n",
       "  </thead>\n",
       "  <tbody>\n",
       "    <tr>\n",
       "      <td>0</td>\n",
       "      <td>2019-12-05</td>\n",
       "      <td>[31.22637176513672, 2.953674793243408, 1.50182...</td>\n",
       "    </tr>\n",
       "  </tbody>\n",
       "</table>\n",
       "</div>"
      ],
      "text/plain": [
       "         Data                                         Data_atual\n",
       "0  2019-12-05  [31.22637176513672, 2.953674793243408, 1.50182..."
      ]
     },
     "execution_count": 40,
     "metadata": {},
     "output_type": "execute_result"
    }
   ],
   "source": [
    "df_.toPandas()"
   ]
  },
  {
   "cell_type": "code",
   "execution_count": 41,
   "metadata": {},
   "outputs": [
    {
     "data": {
      "text/html": [
       "<div>\n",
       "<style scoped>\n",
       "    .dataframe tbody tr th:only-of-type {\n",
       "        vertical-align: middle;\n",
       "    }\n",
       "\n",
       "    .dataframe tbody tr th {\n",
       "        vertical-align: top;\n",
       "    }\n",
       "\n",
       "    .dataframe thead th {\n",
       "        text-align: right;\n",
       "    }\n",
       "</style>\n",
       "<table border=\"1\" class=\"dataframe\">\n",
       "  <thead>\n",
       "    <tr style=\"text-align: right;\">\n",
       "      <th></th>\n",
       "      <th>Data</th>\n",
       "      <th>proxima_data</th>\n",
       "    </tr>\n",
       "  </thead>\n",
       "  <tbody>\n",
       "    <tr>\n",
       "      <td>0</td>\n",
       "      <td>2019-12-05</td>\n",
       "      <td>[30.393707275390625, 2.6966984272003174, 32.01...</td>\n",
       "    </tr>\n",
       "  </tbody>\n",
       "</table>\n",
       "</div>"
      ],
      "text/plain": [
       "         Data                                       proxima_data\n",
       "0  2019-12-05  [30.393707275390625, 2.6966984272003174, 32.01..."
      ]
     },
     "execution_count": 41,
     "metadata": {},
     "output_type": "execute_result"
    }
   ],
   "source": [
    "df_1.toPandas()"
   ]
  },
  {
   "cell_type": "code",
   "execution_count": 42,
   "metadata": {},
   "outputs": [],
   "source": [
    "da = df_.select('Data_atual').collect()"
   ]
  },
  {
   "cell_type": "code",
   "execution_count": null,
   "metadata": {},
   "outputs": [],
   "source": []
  },
  {
   "cell_type": "code",
   "execution_count": 43,
   "metadata": {},
   "outputs": [],
   "source": [
    "pd = df_1.select('proxima_data').collect()"
   ]
  },
  {
   "cell_type": "code",
   "execution_count": 44,
   "metadata": {},
   "outputs": [],
   "source": [
    "dt1 = da[0][0]\n",
    "dc = pd[0][0]\n",
    "A = np.array(dt1)\n",
    "B =  np.array(dc)"
   ]
  },
  {
   "cell_type": "code",
   "execution_count": null,
   "metadata": {},
   "outputs": [],
   "source": []
  },
  {
   "cell_type": "code",
   "execution_count": 48,
   "metadata": {},
   "outputs": [],
   "source": [
    "d, cost_matrix, acc_cost_matrix, path = dtw(A,B, dist=manhattan_distance)"
   ]
  },
  {
   "cell_type": "code",
   "execution_count": 49,
   "metadata": {},
   "outputs": [
    {
     "data": {
      "image/png": "[encoded data removed]",
      "text/plain": [
       "<Figure size 1152x576 with 1 Axes>"
      ]
     },
     "metadata": {
      "needs_background": "light"
     },
     "output_type": "display_data"
    },
    {
     "name": "stdout",
     "output_type": "stream",
     "text": [
      "12.33210575580597\n"
     ]
    }
   ],
   "source": [
    "plt.figure(figsize=(16,8))\n",
    "plt.imshow(acc_cost_matrix.T, origin='lower', cmap='gray', interpolation='nearest')\n",
    "plt.plot(path[0], path[1], 'w')\n",
    "plt.show()\n",
    "print(d)"
   ]
  },
  {
   "cell_type": "code",
   "execution_count": 50,
   "metadata": {},
   "outputs": [
    {
     "data": {
      "text/plain": [
       "[<matplotlib.lines.Line2D at 0x7f113aa3f350>]"
      ]
     },
     "execution_count": 50,
     "metadata": {},
     "output_type": "execute_result"
    },
    {
     "data": {
      "image/png": "[encoded data removed]",
      "text/plain": [
       "<Figure size 1152x576 with 1 Axes>"
      ]
     },
     "metadata": {
      "needs_background": "light"
     },
     "output_type": "display_data"
    }
   ],
   "source": [
    "plt.figure(figsize=(16,8))\n",
    "plt.plot(A)"
   ]
  },
  {
   "cell_type": "code",
   "execution_count": 51,
   "metadata": {},
   "outputs": [
    {
     "data": {
      "text/plain": [
       "[<matplotlib.lines.Line2D at 0x7f113a9a2b50>]"
      ]
     },
     "execution_count": 51,
     "metadata": {},
     "output_type": "execute_result"
    },
    {
     "data": {
      "image/png": "[encoded data removed]",
      "text/plain": [
       "<Figure size 1152x576 with 1 Axes>"
      ]
     },
     "metadata": {
      "needs_background": "light"
     },
     "output_type": "display_data"
    }
   ],
   "source": [
    "plt.figure(figsize=(16,8))\n",
    "plt.plot(B)"
   ]
  },
  {
   "cell_type": "code",
   "execution_count": 52,
   "metadata": {},
   "outputs": [],
   "source": [
    "from dtaidistance import dtw\n",
    "from dtaidistance import dtw_visualisation as dtwvis"
   ]
  },
  {
   "cell_type": "code",
   "execution_count": 53,
   "metadata": {},
   "outputs": [
    {
     "data": {
      "text/plain": [
       "(<Figure size 720x720 with 4 Axes>,\n",
       " [<matplotlib.axes._subplots.AxesSubplot at 0x7f113a9ba7d0>,\n",
       "  <matplotlib.axes._subplots.AxesSubplot at 0x7f113a90c290>,\n",
       "  <matplotlib.axes._subplots.AxesSubplot at 0x7f113a945090>,\n",
       "  <matplotlib.axes._subplots.AxesSubplot at 0x7f113a945190>])"
      ]
     },
     "execution_count": 53,
     "metadata": {},
     "output_type": "execute_result"
    },
    {
     "data": {
      "image/png": "[encoded data removed]",
      "text/plain": [
       "<Figure size 720x720 with 4 Axes>"
      ]
     },
     "metadata": {
      "needs_background": "light"
     },
     "output_type": "display_data"
    }
   ],
   "source": [
    "d, paths = dtw.warping_paths(A, B, window=20, psi=1)\n",
    "best_path = dtw.best_path(paths)\n",
    "dtwvis.plot_warpingpaths(A,B, paths, best_path)"
   ]
  },
  {
   "cell_type": "code",
   "execution_count": 54,
   "metadata": {},
   "outputs": [
    {
     "name": "stdout",
     "output_type": "stream",
     "text": [
      "4.141309745018307\n"
     ]
    }
   ],
   "source": [
    "from dtaidistance import dtw\n",
    "distance, paths = dtw.warping_paths(A, B)\n",
    "print(distance)"
   ]
  },
  {
   "cell_type": "code",
   "execution_count": 55,
   "metadata": {},
   "outputs": [
    {
     "data": {
      "text/html": [
       "<div>\n",
       "<style scoped>\n",
       "    .dataframe tbody tr th:only-of-type {\n",
       "        vertical-align: middle;\n",
       "    }\n",
       "\n",
       "    .dataframe tbody tr th {\n",
       "        vertical-align: top;\n",
       "    }\n",
       "\n",
       "    .dataframe thead th {\n",
       "        text-align: right;\n",
       "    }\n",
       "</style>\n",
       "<table border=\"1\" class=\"dataframe\">\n",
       "  <thead>\n",
       "    <tr style=\"text-align: right;\">\n",
       "      <th></th>\n",
       "      <th>Data</th>\n",
       "      <th>Data_atual</th>\n",
       "    </tr>\n",
       "  </thead>\n",
       "  <tbody>\n",
       "    <tr>\n",
       "      <td>0</td>\n",
       "      <td>2019-12-05</td>\n",
       "      <td>[31.22637176513672, 2.953674793243408, 1.50182...</td>\n",
       "    </tr>\n",
       "  </tbody>\n",
       "</table>\n",
       "</div>"
      ],
      "text/plain": [
       "         Data                                         Data_atual\n",
       "0  2019-12-05  [31.22637176513672, 2.953674793243408, 1.50182..."
      ]
     },
     "execution_count": 55,
     "metadata": {},
     "output_type": "execute_result"
    }
   ],
   "source": [
    "df_.toPandas()"
   ]
  },
  {
   "cell_type": "code",
   "execution_count": 56,
   "metadata": {},
   "outputs": [
    {
     "data": {
      "text/html": [
       "<div>\n",
       "<style scoped>\n",
       "    .dataframe tbody tr th:only-of-type {\n",
       "        vertical-align: middle;\n",
       "    }\n",
       "\n",
       "    .dataframe tbody tr th {\n",
       "        vertical-align: top;\n",
       "    }\n",
       "\n",
       "    .dataframe thead th {\n",
       "        text-align: right;\n",
       "    }\n",
       "</style>\n",
       "<table border=\"1\" class=\"dataframe\">\n",
       "  <thead>\n",
       "    <tr style=\"text-align: right;\">\n",
       "      <th></th>\n",
       "      <th>Data</th>\n",
       "      <th>proxima_data</th>\n",
       "    </tr>\n",
       "  </thead>\n",
       "  <tbody>\n",
       "    <tr>\n",
       "      <td>0</td>\n",
       "      <td>2019-12-05</td>\n",
       "      <td>[30.393707275390625, 2.6966984272003174, 32.01...</td>\n",
       "    </tr>\n",
       "  </tbody>\n",
       "</table>\n",
       "</div>"
      ],
      "text/plain": [
       "         Data                                       proxima_data\n",
       "0  2019-12-05  [30.393707275390625, 2.6966984272003174, 32.01..."
      ]
     },
     "execution_count": 56,
     "metadata": {},
     "output_type": "execute_result"
    }
   ],
   "source": [
    "df_1.toPandas()"
   ]
  },
  {
   "cell_type": "code",
   "execution_count": 76,
   "metadata": {},
   "outputs": [],
   "source": [
    "#df_final = df_.join(df_1,how='inner')\n",
    "df_final = df_.join(df_1,on=['Data'],how='inner')"
   ]
  },
  {
   "cell_type": "code",
   "execution_count": 77,
   "metadata": {},
   "outputs": [],
   "source": [
    "df_final = df_final.withColumn(\"distancia\",lit(0))"
   ]
  },
  {
   "cell_type": "code",
   "execution_count": 83,
   "metadata": {},
   "outputs": [],
   "source": [
    "update_coluna_distancia = (F.when(F.col('distancia') == 0 , distance).otherwise(F.col('distancia')))"
   ]
  },
  {
   "cell_type": "code",
   "execution_count": 85,
   "metadata": {},
   "outputs": [],
   "source": [
    "df_wise = df_final.withColumn('distancia',update_coluna_distancia)"
   ]
  },
  {
   "cell_type": "code",
   "execution_count": 87,
   "metadata": {},
   "outputs": [
    {
     "name": "stdout",
     "output_type": "stream",
     "text": [
      "+----------+--------------------+--------------------+-----------------+\n",
      "|      Data|          Data_atual|        proxima_data|        distancia|\n",
      "+----------+--------------------+--------------------+-----------------+\n",
      "|2019-12-05|[31.226372, 2.953...|[30.393707, 2.696...|4.141309745018307|\n",
      "+----------+--------------------+--------------------+-----------------+\n",
      "\n"
     ]
    }
   ],
   "source": [
    "df_wise.show()"
   ]
  }
 ],
 "metadata": {
  "kernelspec": {
   "display_name": "Python 3",
   "language": "python",
   "name": "python3"
  }
 },
 "nbformat": 4,
 "nbformat_minor": 2
}
