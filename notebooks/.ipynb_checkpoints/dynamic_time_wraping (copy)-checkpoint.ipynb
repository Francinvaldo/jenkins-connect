{
 "cells": [
  {
   "cell_type": "code",
   "execution_count": 1,
   "metadata": {},
   "outputs": [],
   "source": [
    "import pandas as pd\n",
    "import numpy as np\n",
    "import dask.dataframe as dd\n",
    "\n",
    "import matplotlib.pyplot as plt\n",
    "import seaborn as sns;sns.set(context='notebook', palette='pastel', style='darkgrid')\n",
    "%matplotlib inline\n",
    "\n",
    "from dtw import dtw\n",
    "\n",
    "import math\n",
    "import ctypes"
   ]
  },
  {
   "cell_type": "code",
   "execution_count": 2,
   "metadata": {},
   "outputs": [],
   "source": [
    "'''\n",
    "    Loads Parquet data\n",
    "'''\n",
    "\n",
    "dd_the_big_table = dd.read_parquet(f'../data/db_merged.parquet/*.parquet',engine='fastparquet')"
   ]
  },
  {
   "cell_type": "code",
   "execution_count": 3,
   "metadata": {},
   "outputs": [
    {
     "data": {
      "text/plain": [
       "(3480061, 19)"
      ]
     },
     "execution_count": 3,
     "metadata": {},
     "output_type": "execute_result"
    }
   ],
   "source": [
    "dd_the_big_table.compute().shape"
   ]
  },
  {
   "cell_type": "code",
   "execution_count": 4,
   "metadata": {},
   "outputs": [
    {
     "data": {
      "text/plain": [
       "<matplotlib.axes._subplots.AxesSubplot at 0x7f0494068810>"
      ]
     },
     "execution_count": 4,
     "metadata": {},
     "output_type": "execute_result"
    },
    {
     "data": {
      "image/png": "[encoded data removed]",
      "text/plain": [
       "<Figure size 1080x1080 with 1 Axes>"
      ]
     },
     "metadata": {
      "needs_background": "light"
     },
     "output_type": "display_data"
    }
   ],
   "source": [
    "plt.figure(figsize=(15,15))\n",
    "dd_the_big_table['collar_id'].compute().value_counts().plot(kind='bar')"
   ]
  },
  {
   "cell_type": "code",
   "execution_count": 5,
   "metadata": {},
   "outputs": [],
   "source": [
    "'''\n",
    "    Obtains an collar to use as example\n",
    "'''\n",
    "\n",
    "df = dd_the_big_table[dd_the_big_table['collar_id'] == 1571851735].compute()"
   ]
  },
  {
   "cell_type": "code",
   "execution_count": 6,
   "metadata": {},
   "outputs": [],
   "source": [
    "'''\n",
    "    Function to convert Accelerometer & Gyroscope data to gravity and DPS respectively \n",
    "'''\n",
    "\n",
    "# functions to convert to G (Gravity)\n",
    "accel = lambda x:(ctypes.c_int16(int(x)).value * 32)/65536\n",
    "\n",
    "# function to convert to DPS (Degree per second)\n",
    "gyro = lambda x:(ctypes.c_int16(int(x)).value * 4000)/65536\n",
    "\n",
    "def convert_values(df, conversion_type):\n",
    "    for i in range(len(df)):\n",
    "        \n",
    "        if  df.iloc[i] != None and not math.isnan(df.iloc[i]):\n",
    "            df.iloc[i] = conversion_type(df.iloc[i])\n",
    "    \n",
    "    return df"
   ]
  },
  {
   "cell_type": "code",
   "execution_count": 7,
   "metadata": {},
   "outputs": [],
   "source": [
    "'''\n",
    "    Applys conversion to accel data. For now, Gyroscope are not being used, so there's no need to convert it.\n",
    "'''\n",
    "\n",
    "# Convert values of gyroscope and accelerometer\n",
    "# df[['gx', 'gy', 'gz']] = df[['gx', 'gy', 'gz']].apply(convert_values,conversion_type=gyro, axis=1)\n",
    "\n",
    "df[['ax', 'ay', 'az']] = df[['ax', 'ay', 'az']].apply(convert_values, conversion_type=accel, axis=1)"
   ]
  },
  {
   "cell_type": "code",
   "execution_count": 8,
   "metadata": {},
   "outputs": [
    {
     "data": {
      "text/html": [
       "<div>\n",
       "<style scoped>\n",
       "    .dataframe tbody tr th:only-of-type {\n",
       "        vertical-align: middle;\n",
       "    }\n",
       "\n",
       "    .dataframe tbody tr th {\n",
       "        vertical-align: top;\n",
       "    }\n",
       "\n",
       "    .dataframe thead th {\n",
       "        text-align: right;\n",
       "    }\n",
       "</style>\n",
       "<table border=\"1\" class=\"dataframe\">\n",
       "  <thead>\n",
       "    <tr style=\"text-align: right;\">\n",
       "      <th></th>\n",
       "      <th>activity</th>\n",
       "      <th>collar_id</th>\n",
       "      <th>u_id_coleira</th>\n",
       "      <th>gx</th>\n",
       "      <th>gy</th>\n",
       "      <th>gz</th>\n",
       "      <th>ax</th>\n",
       "      <th>ay</th>\n",
       "      <th>az</th>\n",
       "      <th>temp</th>\n",
       "      <th>time_stamp</th>\n",
       "      <th>pet_id</th>\n",
       "      <th>size</th>\n",
       "      <th>race</th>\n",
       "      <th>age</th>\n",
       "      <th>genre</th>\n",
       "      <th>owner_id</th>\n",
       "      <th>lat</th>\n",
       "      <th>long</th>\n",
       "    </tr>\n",
       "    <tr>\n",
       "      <th>index</th>\n",
       "      <th></th>\n",
       "      <th></th>\n",
       "      <th></th>\n",
       "      <th></th>\n",
       "      <th></th>\n",
       "      <th></th>\n",
       "      <th></th>\n",
       "      <th></th>\n",
       "      <th></th>\n",
       "      <th></th>\n",
       "      <th></th>\n",
       "      <th></th>\n",
       "      <th></th>\n",
       "      <th></th>\n",
       "      <th></th>\n",
       "      <th></th>\n",
       "      <th></th>\n",
       "      <th></th>\n",
       "      <th></th>\n",
       "    </tr>\n",
       "  </thead>\n",
       "  <tbody>\n",
       "    <tr>\n",
       "      <td>157822</td>\n",
       "      <td>Andando</td>\n",
       "      <td>1571851735</td>\n",
       "      <td>8b686065-208e-4095-a269-a39417ad2109</td>\n",
       "      <td>NaN</td>\n",
       "      <td>NaN</td>\n",
       "      <td>NaN</td>\n",
       "      <td>-0.125977</td>\n",
       "      <td>-0.024414</td>\n",
       "      <td>0.098633</td>\n",
       "      <td>1440</td>\n",
       "      <td>1571943637550</td>\n",
       "      <td>1571850157</td>\n",
       "      <td>SMALL</td>\n",
       "      <td>Spitz Alemão</td>\n",
       "      <td></td>\n",
       "      <td>MALE</td>\n",
       "      <td>1571850140</td>\n",
       "      <td>None</td>\n",
       "      <td>None</td>\n",
       "    </tr>\n",
       "  </tbody>\n",
       "</table>\n",
       "</div>"
      ],
      "text/plain": [
       "       activity   collar_id                          u_id_coleira  gx  gy  gz  \\\n",
       "index                                                                           \n",
       "157822  Andando  1571851735  8b686065-208e-4095-a269-a39417ad2109 NaN NaN NaN   \n",
       "\n",
       "              ax        ay        az  temp     time_stamp      pet_id   size  \\\n",
       "index                                                                          \n",
       "157822 -0.125977 -0.024414  0.098633  1440  1571943637550  1571850157  SMALL   \n",
       "\n",
       "                race age genre    owner_id   lat  long  \n",
       "index                                                   \n",
       "157822  Spitz Alemão      MALE  1571850140  None  None  "
      ]
     },
     "execution_count": 8,
     "metadata": {},
     "output_type": "execute_result"
    }
   ],
   "source": [
    "df.head(1)"
   ]
  },
  {
   "cell_type": "code",
   "execution_count": 9,
   "metadata": {},
   "outputs": [],
   "source": [
    "'''\n",
    "    1- Creates date_time columns from time_stamp\n",
    "    2- Orders dataset using the date\n",
    "    3- Resets index. It's important for the future window sliding operation\n",
    "'''\n",
    "\n",
    "\n",
    "df['date_time'] = df['time_stamp'].apply(pd.Timestamp, unit='ms')\n",
    "df.sort_values(by=['date_time'], inplace= True)\n",
    "df = df.reset_index()"
   ]
  },
  {
   "cell_type": "code",
   "execution_count": 10,
   "metadata": {},
   "outputs": [
    {
     "data": {
      "text/html": [
       "<div>\n",
       "<style scoped>\n",
       "    .dataframe tbody tr th:only-of-type {\n",
       "        vertical-align: middle;\n",
       "    }\n",
       "\n",
       "    .dataframe tbody tr th {\n",
       "        vertical-align: top;\n",
       "    }\n",
       "\n",
       "    .dataframe thead th {\n",
       "        text-align: right;\n",
       "    }\n",
       "</style>\n",
       "<table border=\"1\" class=\"dataframe\">\n",
       "  <thead>\n",
       "    <tr style=\"text-align: right;\">\n",
       "      <th></th>\n",
       "      <th>index</th>\n",
       "      <th>activity</th>\n",
       "      <th>collar_id</th>\n",
       "      <th>u_id_coleira</th>\n",
       "      <th>gx</th>\n",
       "      <th>gy</th>\n",
       "      <th>gz</th>\n",
       "      <th>ax</th>\n",
       "      <th>ay</th>\n",
       "      <th>az</th>\n",
       "      <th>...</th>\n",
       "      <th>time_stamp</th>\n",
       "      <th>pet_id</th>\n",
       "      <th>size</th>\n",
       "      <th>race</th>\n",
       "      <th>age</th>\n",
       "      <th>genre</th>\n",
       "      <th>owner_id</th>\n",
       "      <th>lat</th>\n",
       "      <th>long</th>\n",
       "      <th>date_time</th>\n",
       "    </tr>\n",
       "  </thead>\n",
       "  <tbody>\n",
       "    <tr>\n",
       "      <td>0</td>\n",
       "      <td>164122</td>\n",
       "      <td>NO LABEL</td>\n",
       "      <td>1571851735</td>\n",
       "      <td>8b686065-208e-4095-a269-a39417ad2109</td>\n",
       "      <td>NaN</td>\n",
       "      <td>NaN</td>\n",
       "      <td>NaN</td>\n",
       "      <td>-0.079590</td>\n",
       "      <td>-0.031738</td>\n",
       "      <td>0.215332</td>\n",
       "      <td>...</td>\n",
       "      <td>1571851840840</td>\n",
       "      <td>1571850157</td>\n",
       "      <td>SMALL</td>\n",
       "      <td>Spitz Alemão</td>\n",
       "      <td></td>\n",
       "      <td>MALE</td>\n",
       "      <td>1571850140</td>\n",
       "      <td></td>\n",
       "      <td></td>\n",
       "      <td>2019-10-23 17:30:40.840</td>\n",
       "    </tr>\n",
       "    <tr>\n",
       "      <td>1</td>\n",
       "      <td>164123</td>\n",
       "      <td>NO LABEL</td>\n",
       "      <td>1571851735</td>\n",
       "      <td>8b686065-208e-4095-a269-a39417ad2109</td>\n",
       "      <td>NaN</td>\n",
       "      <td>NaN</td>\n",
       "      <td>NaN</td>\n",
       "      <td>-0.234863</td>\n",
       "      <td>0.289551</td>\n",
       "      <td>0.588379</td>\n",
       "      <td>...</td>\n",
       "      <td>1571851840940</td>\n",
       "      <td>1571850157</td>\n",
       "      <td>SMALL</td>\n",
       "      <td>Spitz Alemão</td>\n",
       "      <td></td>\n",
       "      <td>MALE</td>\n",
       "      <td>1571850140</td>\n",
       "      <td></td>\n",
       "      <td></td>\n",
       "      <td>2019-10-23 17:30:40.940</td>\n",
       "    </tr>\n",
       "  </tbody>\n",
       "</table>\n",
       "<p>2 rows × 21 columns</p>\n",
       "</div>"
      ],
      "text/plain": [
       "    index  activity   collar_id                          u_id_coleira  gx  gy  \\\n",
       "0  164122  NO LABEL  1571851735  8b686065-208e-4095-a269-a39417ad2109 NaN NaN   \n",
       "1  164123  NO LABEL  1571851735  8b686065-208e-4095-a269-a39417ad2109 NaN NaN   \n",
       "\n",
       "   gz        ax        ay        az  ...     time_stamp      pet_id   size  \\\n",
       "0 NaN -0.079590 -0.031738  0.215332  ...  1571851840840  1571850157  SMALL   \n",
       "1 NaN -0.234863  0.289551  0.588379  ...  1571851840940  1571850157  SMALL   \n",
       "\n",
       "           race age genre    owner_id  lat long               date_time  \n",
       "0  Spitz Alemão      MALE  1571850140           2019-10-23 17:30:40.840  \n",
       "1  Spitz Alemão      MALE  1571850140           2019-10-23 17:30:40.940  \n",
       "\n",
       "[2 rows x 21 columns]"
      ]
     },
     "execution_count": 10,
     "metadata": {},
     "output_type": "execute_result"
    }
   ],
   "source": [
    "df.head(2)"
   ]
  },
  {
   "cell_type": "code",
   "execution_count": null,
   "metadata": {},
   "outputs": [],
   "source": []
  },
  {
   "cell_type": "code",
   "execution_count": null,
   "metadata": {},
   "outputs": [],
   "source": []
  },
  {
   "cell_type": "code",
   "execution_count": 11,
   "metadata": {},
   "outputs": [],
   "source": [
    "'''\n",
    "    Creates a single axis from ax,ay,az accel data\n",
    "'''\n",
    "\n",
    "df['a_xyz'] = np.sqrt(df['ax']**2 + df['ay']**2 + df['az']**2)"
   ]
  },
  {
   "cell_type": "code",
   "execution_count": 12,
   "metadata": {},
   "outputs": [],
   "source": [
    "'''\n",
    "    Functions to plot multi and sigle axis graphs\n",
    "'''\n",
    "\n",
    "\n",
    "def plot_xyz(df, plot_title):\n",
    "    \n",
    "    x = pd.DataFrame(df[['ax', 'ay', 'az']].values,\n",
    "                 df['date_time'], columns=[\"AX\", \"AY\", \"AZ\"])\n",
    "\n",
    "    plt.figure(figsize=(20,10))    \n",
    "    plt.title(plot_title)\n",
    "    ax = sns.lineplot(data=x, sort=True, dashes=False)\n",
    "    plt.show()\n",
    "\n",
    "def plot_cobined(df, plot_title):\n",
    "    \n",
    "    x = pd.DataFrame(df['a_xyz'].values,\n",
    "                 df['date_time'])\n",
    "\n",
    "    plt.figure(figsize=(20,10))    \n",
    "    plt.title(plot_title)\n",
    "    ax = sns.lineplot(data=x, sort=True, dashes=False)\n",
    "    \n",
    "    plt.show()\n",
    "\n"
   ]
  },
  {
   "cell_type": "code",
   "execution_count": 32,
   "metadata": {},
   "outputs": [],
   "source": [
    "df_sample = df.loc[np.arange(0,10000)]"
   ]
  },
  {
   "cell_type": "code",
   "execution_count": 44,
   "metadata": {},
   "outputs": [],
   "source": [
    "'''\n",
    "   The purpose of this cell it's to slide through the dataset in windows of T seconds and calculates similarity between \n",
    "   two temporal sequences using Dynamic time wraping. Source --> https://en.wikipedia.org/wiki/Dynamic_time_warping.\n",
    "    \n",
    "    Also it calculates the variance of each temporal sequence, this determines if it's a repetitive movement.\n",
    "'''\n",
    "\n",
    "# Determines the window of sliding of a 10Hz sensor.\n",
    "jump = 10\n",
    "max_len = df_sample.shape[0]\n",
    "count = 0\n",
    "\n",
    "# Manhattan distance is used to calculate the similarity of two sequences \n",
    "manhattan_distance = lambda x, y: np.abs(x - y)\n",
    "#\n",
    "df_sample['dist'] = None\n",
    "#\n",
    "#while jump + count < max_len:\n",
    "#    \n",
    "#    # Gets Current time window\n",
    "df_current = df_sample.loc[np.arange(count, count + jump)]\n",
    "#    \n",
    "#    # Gets next time window\n",
    "df_next = df_sample.loc[np.arange(count + jump, jump * 2 + count )]\n",
    "#    \n",
    "#    # Makes sure the two windows are in the same size\n",
    "#    if df_current.shape[0] < jump or df_next.shape[0] < jump:\n",
    "#        continue \n",
    "#    \n",
    "#    # calculates similarity between the two sequences\n",
    "d,_, _,_ = dtw(df_current['a_xyz'].values, df_next['a_xyz'].values, dist=manhattan_distance)\n",
    "#    \n",
    "#    \n",
    "#    \n",
    "#    # Calculates the variance of the current wave and adds to a column\n",
    "df_sample.loc[df_current.index, 'variance'] = np.var(df_current['a_xyz'].values)\n",
    "#    \n",
    "#    # Creates a new column with the similarity\n",
    "df_sample.loc[df_current.index, 'dist'] = d\n",
    "#    \n",
    "#    count = count + jump\n",
    "    \n",
    "    "
   ]
  },
  {
   "cell_type": "code",
   "execution_count": 51,
   "metadata": {},
   "outputs": [
    {
     "data": {
      "text/html": [
       "<div>\n",
       "<style scoped>\n",
       "    .dataframe tbody tr th:only-of-type {\n",
       "        vertical-align: middle;\n",
       "    }\n",
       "\n",
       "    .dataframe tbody tr th {\n",
       "        vertical-align: top;\n",
       "    }\n",
       "\n",
       "    .dataframe thead th {\n",
       "        text-align: right;\n",
       "    }\n",
       "</style>\n",
       "<table border=\"1\" class=\"dataframe\">\n",
       "  <thead>\n",
       "    <tr style=\"text-align: right;\">\n",
       "      <th></th>\n",
       "      <th>index</th>\n",
       "      <th>activity</th>\n",
       "      <th>collar_id</th>\n",
       "      <th>u_id_coleira</th>\n",
       "      <th>gx</th>\n",
       "      <th>gy</th>\n",
       "      <th>gz</th>\n",
       "      <th>ax</th>\n",
       "      <th>ay</th>\n",
       "      <th>az</th>\n",
       "      <th>...</th>\n",
       "      <th>race</th>\n",
       "      <th>age</th>\n",
       "      <th>genre</th>\n",
       "      <th>owner_id</th>\n",
       "      <th>lat</th>\n",
       "      <th>long</th>\n",
       "      <th>date_time</th>\n",
       "      <th>a_xyz</th>\n",
       "      <th>dist</th>\n",
       "      <th>variance</th>\n",
       "    </tr>\n",
       "  </thead>\n",
       "  <tbody>\n",
       "    <tr>\n",
       "      <td>0</td>\n",
       "      <td>164122.0</td>\n",
       "      <td>NO LABEL</td>\n",
       "      <td>1.571852e+09</td>\n",
       "      <td>8b686065-208e-4095-a269-a39417ad2109</td>\n",
       "      <td>NaN</td>\n",
       "      <td>NaN</td>\n",
       "      <td>NaN</td>\n",
       "      <td>-0.079590</td>\n",
       "      <td>-0.031738</td>\n",
       "      <td>0.215332</td>\n",
       "      <td>...</td>\n",
       "      <td>Spitz Alemão</td>\n",
       "      <td></td>\n",
       "      <td>MALE</td>\n",
       "      <td>1.571850e+09</td>\n",
       "      <td></td>\n",
       "      <td></td>\n",
       "      <td>2019-10-23 17:30:40.840000</td>\n",
       "      <td>0.231754</td>\n",
       "      <td>2.0558</td>\n",
       "      <td>0.081964</td>\n",
       "    </tr>\n",
       "    <tr>\n",
       "      <td>1</td>\n",
       "      <td>164123.0</td>\n",
       "      <td>NO LABEL</td>\n",
       "      <td>1.571852e+09</td>\n",
       "      <td>8b686065-208e-4095-a269-a39417ad2109</td>\n",
       "      <td>NaN</td>\n",
       "      <td>NaN</td>\n",
       "      <td>NaN</td>\n",
       "      <td>-0.234863</td>\n",
       "      <td>0.289551</td>\n",
       "      <td>0.588379</td>\n",
       "      <td>...</td>\n",
       "      <td>Spitz Alemão</td>\n",
       "      <td></td>\n",
       "      <td>MALE</td>\n",
       "      <td>1.571850e+09</td>\n",
       "      <td></td>\n",
       "      <td></td>\n",
       "      <td>2019-10-23 17:30:40.940000</td>\n",
       "      <td>0.696556</td>\n",
       "      <td>2.0558</td>\n",
       "      <td>0.081964</td>\n",
       "    </tr>\n",
       "  </tbody>\n",
       "</table>\n",
       "<p>2 rows × 24 columns</p>\n",
       "</div>"
      ],
      "text/plain": [
       "      index  activity     collar_id                          u_id_coleira  gx  \\\n",
       "0  164122.0  NO LABEL  1.571852e+09  8b686065-208e-4095-a269-a39417ad2109 NaN   \n",
       "1  164123.0  NO LABEL  1.571852e+09  8b686065-208e-4095-a269-a39417ad2109 NaN   \n",
       "\n",
       "   gy  gz        ax        ay        az  ...          race  age  genre  \\\n",
       "0 NaN NaN -0.079590 -0.031738  0.215332  ...  Spitz Alemão        MALE   \n",
       "1 NaN NaN -0.234863  0.289551  0.588379  ...  Spitz Alemão        MALE   \n",
       "\n",
       "       owner_id lat long                   date_time     a_xyz    dist  \\\n",
       "0  1.571850e+09           2019-10-23 17:30:40.840000  0.231754  2.0558   \n",
       "1  1.571850e+09           2019-10-23 17:30:40.940000  0.696556  2.0558   \n",
       "\n",
       "   variance  \n",
       "0  0.081964  \n",
       "1  0.081964  \n",
       "\n",
       "[2 rows x 24 columns]"
      ]
     },
     "execution_count": 51,
     "metadata": {},
     "output_type": "execute_result"
    }
   ],
   "source": [
    "df_sample.head(2)"
   ]
  },
  {
   "cell_type": "code",
   "execution_count": 49,
   "metadata": {},
   "outputs": [
    {
     "data": {
      "text/plain": [
       "9991"
      ]
     },
     "execution_count": 49,
     "metadata": {},
     "output_type": "execute_result"
    }
   ],
   "source": [
    "df_sample['dist'].isnull().sum()"
   ]
  },
  {
   "cell_type": "code",
   "execution_count": null,
   "metadata": {},
   "outputs": [],
   "source": []
  },
  {
   "cell_type": "code",
   "execution_count": null,
   "metadata": {},
   "outputs": [],
   "source": []
  },
  {
   "cell_type": "code",
   "execution_count": null,
   "metadata": {},
   "outputs": [],
   "source": []
  },
  {
   "cell_type": "code",
   "execution_count": null,
   "metadata": {},
   "outputs": [],
   "source": []
  },
  {
   "cell_type": "code",
   "execution_count": null,
   "metadata": {},
   "outputs": [],
   "source": []
  },
  {
   "cell_type": "code",
   "execution_count": 15,
   "metadata": {},
   "outputs": [
    {
     "data": {
      "text/plain": [
       "\"\\n    Defines a threshold the determine if a wave it's a repetition or a low variance movement \\n\""
      ]
     },
     "execution_count": 15,
     "metadata": {},
     "output_type": "execute_result"
    }
   ],
   "source": [
    "'''\n",
    "    Defines a threshold the determine if a wave it's a repetition or a low variance movement \n",
    "'''\n",
    "#df_sample.dropna(subset=['dist'], inplace=True)\n",
    "#idx_low_var = df_sample[(df_sample['dist'] < 0.1) & (df_sample['variance'] < 0.00001)].index\n",
    "#idx_repetition = df_sample[(df_sample['dist'] < 1) & (df_sample['variance'] > 0.1)].index\n",
    "#\n",
    "#df_sample['type'] = 'ordinary'\n",
    "#df_sample.loc[idx_low_var, 'type'] = 'constant'\n",
    "#df_sample.loc[idx_repetition, 'type'] = 'repetitive'"
   ]
  },
  {
   "cell_type": "code",
   "execution_count": 16,
   "metadata": {},
   "outputs": [
    {
     "data": {
      "text/plain": [
       "'Plotting some examples'"
      ]
     },
     "execution_count": 16,
     "metadata": {},
     "output_type": "execute_result"
    }
   ],
   "source": [
    "'''Plotting some examples'''"
   ]
  },
  {
   "cell_type": "code",
   "execution_count": 17,
   "metadata": {},
   "outputs": [],
   "source": [
    "#plot_cobined(df_sample.loc[np.arange(3800,3820)], \"Sample 01\")"
   ]
  },
  {
   "cell_type": "code",
   "execution_count": 18,
   "metadata": {},
   "outputs": [],
   "source": [
    "#plot_cobined(df_sample.loc[np.arange(5840,5860)], \"Sample 02\")"
   ]
  },
  {
   "cell_type": "code",
   "execution_count": 19,
   "metadata": {},
   "outputs": [],
   "source": [
    "#plot_cobined(df_sample.loc[np.arange(6220,6439)], \"Sample 033)"
   ]
  },
  {
   "cell_type": "code",
   "execution_count": 20,
   "metadata": {},
   "outputs": [],
   "source": [
    "#plot_cobined(df_sample.loc[np.arange(180,220)], \"Sample 04\")"
   ]
  },
  {
   "cell_type": "code",
   "execution_count": 21,
   "metadata": {},
   "outputs": [],
   "source": [
    "#plot_cobined(df_sample.loc[np.arange(260,280)], \"Sample 05\")"
   ]
  }
 ],
 "metadata": {
  "kernelspec": {
   "display_name": "Python 3",
   "language": "python",
   "name": "python3"
  },
  "language_info": {
   "codemirror_mode": {
    "name": "ipython",
    "version": 3
   },
   "file_extension": ".py",
   "mimetype": "text/x-python",
   "name": "python",
   "nbconvert_exporter": "python",
   "pygments_lexer": "ipython3",
   "version": "3.7.4"
  }
 },
 "nbformat": 4,
 "nbformat_minor": 4
}
