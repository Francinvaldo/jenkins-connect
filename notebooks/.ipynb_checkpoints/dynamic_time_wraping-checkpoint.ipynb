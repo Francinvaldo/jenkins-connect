{
 "cells": [
  {
   "cell_type": "code",
   "execution_count": 16,
   "metadata": {},
   "outputs": [],
   "source": [
    "import pandas as pd\n",
    "import numpy as np\n",
    "import dask.dataframe as dd\n",
    "\n",
    "import matplotlib.pyplot as plt\n",
    "import seaborn as sns;sns.set(context='notebook', palette='pastel', style='darkgrid')\n",
    "%matplotlib inline\n",
    "\n",
    "from dtw import dtw\n",
    "\n",
    "import math\n",
    "import ctypes"
   ]
  },
  {
   "cell_type": "code",
   "execution_count": 4,
   "metadata": {},
   "outputs": [],
   "source": [
    "'''\n",
    "    Loads Parquet data\n",
    "'''\n",
    "\n",
    "dd_the_big_table = dd.read_parquet(f'../data/db_merged.parquet/*.parquet',engine='fastparquet')"
   ]
  },
  {
   "cell_type": "code",
   "execution_count": null,
   "metadata": {},
   "outputs": [],
   "source": [
    "dd_the_big_table.compute().shape"
   ]
  },
  {
   "cell_type": "code",
   "execution_count": null,
   "metadata": {},
   "outputs": [],
   "source": [
    "plt.figure(figsize=(15,15))\n",
    "dd_the_big_table['collar_id'].compute().value_counts().plot(kind='bar')"
   ]
  },
  {
   "cell_type": "code",
   "execution_count": null,
   "metadata": {},
   "outputs": [],
   "source": [
    "'''\n",
    "    Obtains an collar to use as example\n",
    "'''\n",
    "\n",
    "df = dd_the_big_table[dd_the_big_table['collar_id'] == 1571851735].compute()"
   ]
  },
  {
   "cell_type": "code",
   "execution_count": null,
   "metadata": {},
   "outputs": [],
   "source": [
    "'''\n",
    "    Function to convert Accelerometer & Gyroscope data to gravity and DPS respectively \n",
    "'''\n",
    "\n",
    "# functions to convert to G (Gravity)\n",
    "accel = lambda x:(ctypes.c_int16(int(x)).value * 32)/65536\n",
    "\n",
    "# function to convert to DPS (Degree per second)\n",
    "gyro = lambda x:(ctypes.c_int16(int(x)).value * 4000)/65536\n",
    "\n",
    "def convert_values(df, conversion_type):\n",
    "    for i in range(len(df)):\n",
    "        \n",
    "        if  df.iloc[i] != None and not math.isnan(df.iloc[i]):\n",
    "            df.iloc[i] = conversion_type(df.iloc[i])\n",
    "    \n",
    "    return df"
   ]
  },
  {
   "cell_type": "code",
   "execution_count": null,
   "metadata": {},
   "outputs": [],
   "source": [
    "'''\n",
    "    Applys conversion to accel data. For now, Gyroscope are not being used, so there's no need to convert it.\n",
    "'''\n",
    "\n",
    "# Convert values of gyroscope and accelerometer\n",
    "# df[['gx', 'gy', 'gz']] = df[['gx', 'gy', 'gz']].apply(convert_values,conversion_type=gyro, axis=1)\n",
    "\n",
    "df[['ax', 'ay', 'az']] = df[['ax', 'ay', 'az']].apply(convert_values, conversion_type=accel, axis=1)"
   ]
  },
  {
   "cell_type": "code",
   "execution_count": null,
   "metadata": {},
   "outputs": [],
   "source": [
    "'''\n",
    "    1- Creates date_time columns from time_stamp\n",
    "    2- Orders dataset using the date\n",
    "    3- Resets index. It's important for the future window sliding operation\n",
    "'''\n",
    "\n",
    "\n",
    "df['date_time'] = df['time_stamp'].apply(pd.Timestamp, unit='ms')\n",
    "df.sort_values(by=['date_time'], inplace= True)\n",
    "df = df.reset_index()"
   ]
  },
  {
   "cell_type": "code",
   "execution_count": null,
   "metadata": {},
   "outputs": [],
   "source": [
    "'''\n",
    "    Creates a single axis from ax,ay,az accel data\n",
    "'''\n",
    "\n",
    "df['a_xyz'] = np.sqrt(df['ax']**2 + df['ay']**2 + df['az']**2)"
   ]
  },
  {
   "cell_type": "code",
   "execution_count": null,
   "metadata": {},
   "outputs": [],
   "source": [
    "'''\n",
    "    Functions to plot multi and sigle axis graphs\n",
    "'''\n",
    "\n",
    "\n",
    "def plot_xyz(df, plot_title):\n",
    "    \n",
    "    x = pd.DataFrame(df[['ax', 'ay', 'az']].values,\n",
    "                 df['date_time'], columns=[\"AX\", \"AY\", \"AZ\"])\n",
    "\n",
    "    plt.figure(figsize=(20,10))    \n",
    "    plt.title(plot_title)\n",
    "    ax = sns.lineplot(data=x, sort=True, dashes=False)\n",
    "    plt.show()\n",
    "\n",
    "def plot_cobined(df, plot_title):\n",
    "    \n",
    "    x = pd.DataFrame(df['a_xyz'].values,\n",
    "                 df['date_time'])\n",
    "\n",
    "    plt.figure(figsize=(20,10))    \n",
    "    plt.title(plot_title)\n",
    "    ax = sns.lineplot(data=x, sort=True, dashes=False)\n",
    "    \n",
    "    plt.show()\n",
    "\n"
   ]
  },
  {
   "cell_type": "code",
   "execution_count": null,
   "metadata": {},
   "outputs": [],
   "source": [
    "df_sample = df.loc[np.arange(0,10000)]"
   ]
  },
  {
   "cell_type": "code",
   "execution_count": null,
   "metadata": {},
   "outputs": [],
   "source": [
    "'''\n",
    "   The purpose of this cell it's to slide through the dataset in windows of T seconds and calculates similarity between \n",
    "   two temporal sequences using Dynamic time wraping. Source --> https://en.wikipedia.org/wiki/Dynamic_time_warping.\n",
    "    \n",
    "    Also it calculates the variance of each temporal sequence, this determines if it's a repetitive movement.\n",
    "'''\n",
    "\n",
    "# Determines the window of sliding of a 10Hz sensor.\n",
    "jump = 10\n",
    "max_len = df_sample.shape[0]\n",
    "count = 0\n",
    "\n",
    "# Manhattan distance is used to calculate the similarity of two sequences \n",
    "manhattan_distance = lambda x, y: np.abs(x - y)\n",
    "\n",
    "df_sample['dist'] = None\n",
    "\n",
    "while jump + count < max_len:\n",
    "    \n",
    "    # Gets Current time window\n",
    "    df_current = df_sample.loc[np.arange(count, count + jump)]\n",
    "    \n",
    "    # Gets next time window\n",
    "    df_next = df_sample.loc[np.arange(count + jump, jump * 2 + count )]\n",
    "    \n",
    "    # Makes sure the two windows are in the same size\n",
    "    if df_current.shape[0] < jump or df_next.shape[0] < jump:\n",
    "        continue \n",
    "    \n",
    "    # calculates similarity between the two sequences\n",
    "    d,_, _,_ = dtw(df_current['a_xyz'].values, df_next['a_xyz'].values, dist=manhattan_distance)\n",
    "    \n",
    "    \n",
    "    \n",
    "    # Calculates the variance of the current wave and adds to a column\n",
    "    df_sample.loc[df_current.index, 'variance'] = np.var(df_current['a_xyz'].values)\n",
    "    \n",
    "    # Creates a new column with the similarity\n",
    "    df_sample.loc[df_current.index, 'dist'] = d\n",
    "    \n",
    "    count = count + jump\n",
    "    \n",
    "    "
   ]
  },
  {
   "cell_type": "code",
   "execution_count": null,
   "metadata": {},
   "outputs": [],
   "source": []
  },
  {
   "cell_type": "code",
   "execution_count": null,
   "metadata": {},
   "outputs": [],
   "source": [
    "'''\n",
    "    Defines a threshold the determine if a wave it's a repetition or a low variance movement \n",
    "'''\n",
    "df_sample.dropna(subset=['dist'], inplace=True)\n",
    "idx_low_var = df_sample[(df_sample['dist'] < 0.1) & (df_sample['variance'] < 0.00001)].index\n",
    "idx_repetition = df_sample[(df_sample['dist'] < 1) & (df_sample['variance'] > 0.1)].index\n",
    "\n",
    "df_sample['type'] = 'ordinary'\n",
    "df_sample.loc[idx_low_var, 'type'] = 'constant'\n",
    "df_sample.loc[idx_repetition, 'type'] = 'repetitive'"
   ]
  },
  {
   "cell_type": "code",
   "execution_count": null,
   "metadata": {},
   "outputs": [],
   "source": [
    "'''Plotting some examples'''"
   ]
  },
  {
   "cell_type": "code",
   "execution_count": null,
   "metadata": {},
   "outputs": [],
   "source": [
    "plot_cobined(df_sample.loc[np.arange(3800,3820)], \"Sample 01\")"
   ]
  },
  {
   "cell_type": "code",
   "execution_count": null,
   "metadata": {},
   "outputs": [],
   "source": [
    "plot_cobined(df_sample.loc[np.arange(5840,5860)], \"Sample 02\")"
   ]
  },
  {
   "cell_type": "code",
   "execution_count": null,
   "metadata": {},
   "outputs": [],
   "source": [
    "plot_cobined(df_sample.loc[np.arange(6220,6439)], \"Sample 033)"
   ]
  },
  {
   "cell_type": "code",
   "execution_count": null,
   "metadata": {},
   "outputs": [],
   "source": [
    "plot_cobined(df_sample.loc[np.arange(180,220)], \"Sample 04\")"
   ]
  },
  {
   "cell_type": "code",
   "execution_count": null,
   "metadata": {},
   "outputs": [],
   "source": [
    "plot_cobined(df_sample.loc[np.arange(260,280)], \"Sample 05\")"
   ]
  }
 ],
 "metadata": {
  "kernelspec": {
   "display_name": "Python 3.7.4",
   "language": "python",
   "name": "other-env"
  },
  "language_info": {
   "codemirror_mode": {
    "name": "ipython",
    "version": 3
   },
   "file_extension": ".py",
   "mimetype": "text/x-python",
   "name": "python",
   "nbconvert_exporter": "python",
   "pygments_lexer": "ipython3",
   "version": "3.7.4"
  }
 },
 "nbformat": 4,
 "nbformat_minor": 2
}
