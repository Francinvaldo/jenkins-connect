{
 "cells": [
  {
   "cell_type": "code",
   "execution_count": 1,
   "metadata": {},
   "outputs": [],
   "source": [
    "import warnings\n",
    "warnings.filterwarnings('ignore')\n",
    "\n",
    "import pandas as pd\n",
    "import numpy as np\n",
    "import matplotlib.pyplot as plt\n",
    "import pandas as pd\n",
    "import numpy as np\n",
    "import dask.dataframe as dd\n",
    "import matplotlib.pyplot as plt\n",
    "import seaborn as sns;sns.set(context='notebook', palette='pastel', style='darkgrid')\n",
    "%matplotlib inline\n",
    "from dtw import dtw\n",
    "import math\n",
    "import ctypes\n",
    "from pyspark.sql.types import DoubleType\n",
    "from pyspark.sql.types import StringType\n",
    "from pyspark.sql.types import IntegerType\n",
    "from pyspark.sql.functions import udf , array\n",
    "from pyspark.sql import functions as F\n",
    "from pyspark.sql.functions import unix_timestamp\n",
    "from pyspark.sql.functions import from_unixtime\n",
    "from pyspark.sql.types import DataType\n",
    "from pyspark.sql.types import LongType\n",
    "from pyspark.sql.types import  FloatType\n",
    "from pyspark.sql.functions import lit\n",
    "from pyspark.sql.functions import col\n",
    "import numpy as np\n",
    "from scipy.spatial.distance import euclidean\n",
    "from fastdtw import fastdtw\n",
    "import os"
   ]
  },
  {
   "cell_type": "code",
   "execution_count": 2,
   "metadata": {},
   "outputs": [],
   "source": [
    "df_spark = spark.read.load(\"/home/datasciencemlops/Documents/DataScience/Connect/ConnectPET/data/db_merged.parquet/*.parquet\")"
   ]
  },
  {
   "cell_type": "code",
   "execution_count": 3,
   "metadata": {},
   "outputs": [
    {
     "data": {
      "text/plain": [
       "DataFrame[index: bigint, activity: string, collar_id: bigint, u_id_coleira: string, gx: double, gy: double, gz: double, ax: bigint, ay: bigint, az: bigint, temp: bigint, time_stamp: bigint, pet_id: bigint, size: string, race: string, age: string, genre: string, owner_id: bigint, lat: string, long: string]"
      ]
     },
     "execution_count": 3,
     "metadata": {},
     "output_type": "execute_result"
    }
   ],
   "source": [
    "df_spark.repartition(10)"
   ]
  },
  {
   "cell_type": "code",
   "execution_count": 4,
   "metadata": {},
   "outputs": [
    {
     "data": {
      "text/plain": [
       "DataFrame[index: bigint, activity: string, collar_id: bigint, u_id_coleira: string, gx: double, gy: double, gz: double, ax: bigint, ay: bigint, az: bigint, temp: bigint, time_stamp: bigint, pet_id: bigint, size: string, race: string, age: string, genre: string, owner_id: bigint, lat: string, long: string]"
      ]
     },
     "execution_count": 4,
     "metadata": {},
     "output_type": "execute_result"
    }
   ],
   "source": [
    "df_spark.cache()"
   ]
  },
  {
   "cell_type": "code",
   "execution_count": 5,
   "metadata": {},
   "outputs": [],
   "source": [
    "spark = SparkSession.builder \\\n",
    "   .master(\"local\") \\\n",
    "   .appName(\"Projeto ConnetPet-SPARK\") \\\n",
    "   .config(\"spark.executor.memory\", \"5gb\") \\\n",
    "   .getOrCreate()"
   ]
  },
  {
   "cell_type": "code",
   "execution_count": 6,
   "metadata": {},
   "outputs": [],
   "source": [
    "df = df_spark[df_spark['collar_id'] == 1575546080]\n",
    "df = df.toPandas()\n",
    "df['data_'] = pd.to_datetime(df['time_stamp'],unit='ms')\n",
    "df.sort_values(by=['data_'],inplace=True)\n",
    "df = df.reset_index()"
   ]
  },
  {
   "cell_type": "code",
   "execution_count": 7,
   "metadata": {},
   "outputs": [],
   "source": [
    "df1 = spark.createDataFrame(df)"
   ]
  },
  {
   "cell_type": "code",
   "execution_count": 8,
   "metadata": {},
   "outputs": [],
   "source": [
    "def convert_values(x):\n",
    "    return  (x * 32) / 65536"
   ]
  },
  {
   "cell_type": "code",
   "execution_count": 9,
   "metadata": {},
   "outputs": [],
   "source": [
    "converter_valores_xyx = udf(lambda x : convert_values(x),FloatType())"
   ]
  },
  {
   "cell_type": "code",
   "execution_count": 16,
   "metadata": {},
   "outputs": [],
   "source": [
    "df2 = df1.withColumn('ax_',converter_valores_xyx('ax'))\\\n",
    "  .withColumn('ay_',converter_valores_xyx('ay'))\\\n",
    "  .withColumn('az_',converter_valores_xyx('az'))"
   ]
  },
  {
   "cell_type": "code",
   "execution_count": 17,
   "metadata": {},
   "outputs": [],
   "source": [
    "df3 = df2.withColumn('a_xyz_',(F.sqrt(df2['ax_']**2 +F.sqrt(df2['ay_']**2 + F.sqrt(df2['az_']**2)))))"
   ]
  },
  {
   "cell_type": "code",
   "execution_count": 18,
   "metadata": {},
   "outputs": [],
   "source": [
    "df_sample = df3.withColumn('dist',lit(np.NAN))"
   ]
  },
  {
   "cell_type": "code",
   "execution_count": 19,
   "metadata": {},
   "outputs": [],
   "source": [
    "from pyspark.sql.functions import split"
   ]
  },
  {
   "cell_type": "code",
   "execution_count": 21,
   "metadata": {},
   "outputs": [],
   "source": [
    "split_col = split(df_sample['data_'], ' ')\n",
    "df_sample = df_sample.withColumn('Data', split_col.getItem(0))\n",
    "df_sample = df_sample.withColumn('Hora', split_col.getItem(1))"
   ]
  },
  {
   "cell_type": "code",
   "execution_count": 22,
   "metadata": {},
   "outputs": [],
   "source": [
    "df_sample = df_sample.select(\n",
    "    \"*\",\n",
    "    split(\"Hora\", \":\")[0].cast(\"int\").alias(\"hour\"),\n",
    "    split(\"Hora\", \":\")[1].cast(\"int\").alias(\"minute\"),\n",
    "    split(\"Hora\", \":\")[2].cast(\"int\").alias(\"second\")\n",
    ").sort('Hora','second', ascending=True)"
   ]
  },
  {
   "cell_type": "code",
   "execution_count": 23,
   "metadata": {},
   "outputs": [],
   "source": [
    "from pyspark.sql.functions import desc"
   ]
  },
  {
   "cell_type": "code",
   "execution_count": 24,
   "metadata": {},
   "outputs": [],
   "source": [
    "df_sample = df_sample.withColumn(\"a_xyz_\",df_sample['a_xyz_'].cast('float'))"
   ]
  },
  {
   "cell_type": "code",
   "execution_count": null,
   "metadata": {},
   "outputs": [],
   "source": []
  },
  {
   "cell_type": "code",
   "execution_count": 25,
   "metadata": {},
   "outputs": [
    {
     "data": {
      "text/html": [
       "<div>\n",
       "<style scoped>\n",
       "    .dataframe tbody tr th:only-of-type {\n",
       "        vertical-align: middle;\n",
       "    }\n",
       "\n",
       "    .dataframe tbody tr th {\n",
       "        vertical-align: top;\n",
       "    }\n",
       "\n",
       "    .dataframe thead th {\n",
       "        text-align: right;\n",
       "    }\n",
       "</style>\n",
       "<table border=\"1\" class=\"dataframe\">\n",
       "  <thead>\n",
       "    <tr style=\"text-align: right;\">\n",
       "      <th></th>\n",
       "      <th>level_0</th>\n",
       "      <th>index</th>\n",
       "      <th>activity</th>\n",
       "      <th>collar_id</th>\n",
       "      <th>u_id_coleira</th>\n",
       "      <th>gx</th>\n",
       "      <th>gy</th>\n",
       "      <th>gz</th>\n",
       "      <th>ax</th>\n",
       "      <th>ay</th>\n",
       "      <th>...</th>\n",
       "      <th>ax_</th>\n",
       "      <th>ay_</th>\n",
       "      <th>az_</th>\n",
       "      <th>a_xyz_</th>\n",
       "      <th>dist</th>\n",
       "      <th>Data</th>\n",
       "      <th>Hora</th>\n",
       "      <th>hour</th>\n",
       "      <th>minute</th>\n",
       "      <th>second</th>\n",
       "    </tr>\n",
       "  </thead>\n",
       "  <tbody>\n",
       "    <tr>\n",
       "      <td>0</td>\n",
       "      <td>2588</td>\n",
       "      <td>208590</td>\n",
       "      <td>NO LABEL</td>\n",
       "      <td>1575546080</td>\n",
       "      <td>16be5a04-d1c1-4620-b7d9-598843268ca0</td>\n",
       "      <td>NaN</td>\n",
       "      <td>NaN</td>\n",
       "      <td>NaN</td>\n",
       "      <td>304</td>\n",
       "      <td>338</td>\n",
       "      <td>...</td>\n",
       "      <td>0.148438</td>\n",
       "      <td>0.165039</td>\n",
       "      <td>31.988281</td>\n",
       "      <td>2.383329</td>\n",
       "      <td>NaN</td>\n",
       "      <td>2019-12-05</td>\n",
       "      <td>11:41:09.82</td>\n",
       "      <td>11</td>\n",
       "      <td>41</td>\n",
       "      <td>9</td>\n",
       "    </tr>\n",
       "    <tr>\n",
       "      <td>1</td>\n",
       "      <td>2589</td>\n",
       "      <td>208591</td>\n",
       "      <td>NO LABEL</td>\n",
       "      <td>1575546080</td>\n",
       "      <td>16be5a04-d1c1-4620-b7d9-598843268ca0</td>\n",
       "      <td>NaN</td>\n",
       "      <td>NaN</td>\n",
       "      <td>NaN</td>\n",
       "      <td>371</td>\n",
       "      <td>614</td>\n",
       "      <td>...</td>\n",
       "      <td>0.181152</td>\n",
       "      <td>0.299805</td>\n",
       "      <td>0.858398</td>\n",
       "      <td>1.003301</td>\n",
       "      <td>NaN</td>\n",
       "      <td>2019-12-05</td>\n",
       "      <td>11:41:09.92</td>\n",
       "      <td>11</td>\n",
       "      <td>41</td>\n",
       "      <td>9</td>\n",
       "    </tr>\n",
       "    <tr>\n",
       "      <td>2</td>\n",
       "      <td>2590</td>\n",
       "      <td>208592</td>\n",
       "      <td>NO LABEL</td>\n",
       "      <td>1575546080</td>\n",
       "      <td>16be5a04-d1c1-4620-b7d9-598843268ca0</td>\n",
       "      <td>NaN</td>\n",
       "      <td>NaN</td>\n",
       "      <td>NaN</td>\n",
       "      <td>65357</td>\n",
       "      <td>598</td>\n",
       "      <td>...</td>\n",
       "      <td>31.912598</td>\n",
       "      <td>0.291992</td>\n",
       "      <td>1.026367</td>\n",
       "      <td>31.929113</td>\n",
       "      <td>NaN</td>\n",
       "      <td>2019-12-05</td>\n",
       "      <td>11:41:10.02</td>\n",
       "      <td>11</td>\n",
       "      <td>41</td>\n",
       "      <td>10</td>\n",
       "    </tr>\n",
       "    <tr>\n",
       "      <td>3</td>\n",
       "      <td>2591</td>\n",
       "      <td>208593</td>\n",
       "      <td>NO LABEL</td>\n",
       "      <td>1575546080</td>\n",
       "      <td>16be5a04-d1c1-4620-b7d9-598843268ca0</td>\n",
       "      <td>NaN</td>\n",
       "      <td>NaN</td>\n",
       "      <td>NaN</td>\n",
       "      <td>65309</td>\n",
       "      <td>671</td>\n",
       "      <td>...</td>\n",
       "      <td>31.889160</td>\n",
       "      <td>0.327637</td>\n",
       "      <td>0.919434</td>\n",
       "      <td>31.905045</td>\n",
       "      <td>NaN</td>\n",
       "      <td>2019-12-05</td>\n",
       "      <td>11:41:10.12</td>\n",
       "      <td>11</td>\n",
       "      <td>41</td>\n",
       "      <td>10</td>\n",
       "    </tr>\n",
       "  </tbody>\n",
       "</table>\n",
       "<p>4 rows × 32 columns</p>\n",
       "</div>"
      ],
      "text/plain": [
       "   level_0   index  activity   collar_id  \\\n",
       "0     2588  208590  NO LABEL  1575546080   \n",
       "1     2589  208591  NO LABEL  1575546080   \n",
       "2     2590  208592  NO LABEL  1575546080   \n",
       "3     2591  208593  NO LABEL  1575546080   \n",
       "\n",
       "                           u_id_coleira  gx  gy  gz     ax   ay  ...  \\\n",
       "0  16be5a04-d1c1-4620-b7d9-598843268ca0 NaN NaN NaN    304  338  ...   \n",
       "1  16be5a04-d1c1-4620-b7d9-598843268ca0 NaN NaN NaN    371  614  ...   \n",
       "2  16be5a04-d1c1-4620-b7d9-598843268ca0 NaN NaN NaN  65357  598  ...   \n",
       "3  16be5a04-d1c1-4620-b7d9-598843268ca0 NaN NaN NaN  65309  671  ...   \n",
       "\n",
       "         ax_       ay_        az_     a_xyz_ dist        Data         Hora  \\\n",
       "0   0.148438  0.165039  31.988281   2.383329  NaN  2019-12-05  11:41:09.82   \n",
       "1   0.181152  0.299805   0.858398   1.003301  NaN  2019-12-05  11:41:09.92   \n",
       "2  31.912598  0.291992   1.026367  31.929113  NaN  2019-12-05  11:41:10.02   \n",
       "3  31.889160  0.327637   0.919434  31.905045  NaN  2019-12-05  11:41:10.12   \n",
       "\n",
       "  hour  minute second  \n",
       "0   11      41      9  \n",
       "1   11      41      9  \n",
       "2   11      41     10  \n",
       "3   11      41     10  \n",
       "\n",
       "[4 rows x 32 columns]"
      ]
     },
     "execution_count": 25,
     "metadata": {},
     "output_type": "execute_result"
    }
   ],
   "source": [
    "df_sample.limit(4).toPandas()"
   ]
  },
  {
   "cell_type": "code",
   "execution_count": 26,
   "metadata": {},
   "outputs": [],
   "source": [
    "# Determines the window of sliding of a 10Hz sensor.\n",
    "jump = 10\n",
    "max_len = df_sample.count()\n",
    "count = 0"
   ]
  },
  {
   "cell_type": "code",
   "execution_count": 27,
   "metadata": {},
   "outputs": [],
   "source": [
    "# Manhattan distance is used to calculate the similarity of two sequences \n",
    "manhattan_distance = lambda x, y: np.abs(x - y)\n",
    "\n",
    "#df_sample['dist'] = None\n",
    "\n",
    "#while jump + count < max_len:\n",
    "#\n",
    "# Gets Current time window\n",
    "df_current = df_sample.where(col('level_0').between(count,count + jump))\n",
    "\n",
    "# Gets next time window\n",
    "df_next = df_sample.where(col('level_0').between(count + jump,jump * 2 + count))\n",
    "#\n",
    "# Makes sure the two windows are in the same size\n",
    "#if df_current.shape[0] < jump or df_next.shape[0] < jump:\n",
    "#    continue \n",
    "#\n",
    "# calculates similarity between the two sequences\n",
    "#d,_, _,_ = dtw(df_current['a_xyz'].values, df_next['a_xyz'].values, dist=manhattan_distance)\n",
    "#\n",
    "#\n",
    "#\n",
    "# Calculates the variance of the current wave and adds to a column\n",
    "#2019-12-05df_sample.loc[df_current.index, 'variance'] = np.var(df_current['a_xyz'].values)\n",
    "#\n",
    "# Creates a new column with the similarity\n",
    "#df_sample.loc[df_current.index, 'dist'] = d\n",
    "#\n",
    "#count = count + jump"
   ]
  },
  {
   "cell_type": "code",
   "execution_count": 28,
   "metadata": {},
   "outputs": [
    {
     "data": {
      "text/html": [
       "<div>\n",
       "<style scoped>\n",
       "    .dataframe tbody tr th:only-of-type {\n",
       "        vertical-align: middle;\n",
       "    }\n",
       "\n",
       "    .dataframe tbody tr th {\n",
       "        vertical-align: top;\n",
       "    }\n",
       "\n",
       "    .dataframe thead th {\n",
       "        text-align: right;\n",
       "    }\n",
       "</style>\n",
       "<table border=\"1\" class=\"dataframe\">\n",
       "  <thead>\n",
       "    <tr style=\"text-align: right;\">\n",
       "      <th></th>\n",
       "      <th>level_0</th>\n",
       "      <th>index</th>\n",
       "      <th>activity</th>\n",
       "      <th>collar_id</th>\n",
       "      <th>u_id_coleira</th>\n",
       "      <th>gx</th>\n",
       "      <th>gy</th>\n",
       "      <th>gz</th>\n",
       "      <th>ax</th>\n",
       "      <th>ay</th>\n",
       "      <th>...</th>\n",
       "      <th>ax_</th>\n",
       "      <th>ay_</th>\n",
       "      <th>az_</th>\n",
       "      <th>a_xyz_</th>\n",
       "      <th>dist</th>\n",
       "      <th>Data</th>\n",
       "      <th>Hora</th>\n",
       "      <th>hour</th>\n",
       "      <th>minute</th>\n",
       "      <th>second</th>\n",
       "    </tr>\n",
       "  </thead>\n",
       "  <tbody>\n",
       "    <tr>\n",
       "      <td>0</td>\n",
       "      <td>0</td>\n",
       "      <td>208648</td>\n",
       "      <td>NO LABEL</td>\n",
       "      <td>1575546080</td>\n",
       "      <td>16be5a04-d1c1-4620-b7d9-598843268ca0</td>\n",
       "      <td>NaN</td>\n",
       "      <td>NaN</td>\n",
       "      <td>NaN</td>\n",
       "      <td>62904</td>\n",
       "      <td>63848</td>\n",
       "      <td>...</td>\n",
       "      <td>30.714844</td>\n",
       "      <td>31.175781</td>\n",
       "      <td>31.986328</td>\n",
       "      <td>31.226372</td>\n",
       "      <td>NaN</td>\n",
       "      <td>2019-12-05</td>\n",
       "      <td>11:41:15.62</td>\n",
       "      <td>11</td>\n",
       "      <td>41</td>\n",
       "      <td>15</td>\n",
       "    </tr>\n",
       "    <tr>\n",
       "      <td>1</td>\n",
       "      <td>1</td>\n",
       "      <td>208649</td>\n",
       "      <td>NO LABEL</td>\n",
       "      <td>1575546080</td>\n",
       "      <td>16be5a04-d1c1-4620-b7d9-598843268ca0</td>\n",
       "      <td>NaN</td>\n",
       "      <td>NaN</td>\n",
       "      <td>NaN</td>\n",
       "      <td>4699</td>\n",
       "      <td>6796</td>\n",
       "      <td>...</td>\n",
       "      <td>2.294434</td>\n",
       "      <td>3.318359</td>\n",
       "      <td>0.958496</td>\n",
       "      <td>2.953675</td>\n",
       "      <td>NaN</td>\n",
       "      <td>2019-12-05</td>\n",
       "      <td>11:41:15.72</td>\n",
       "      <td>11</td>\n",
       "      <td>41</td>\n",
       "      <td>15</td>\n",
       "    </tr>\n",
       "  </tbody>\n",
       "</table>\n",
       "<p>2 rows × 32 columns</p>\n",
       "</div>"
      ],
      "text/plain": [
       "   level_0   index  activity   collar_id  \\\n",
       "0        0  208648  NO LABEL  1575546080   \n",
       "1        1  208649  NO LABEL  1575546080   \n",
       "\n",
       "                           u_id_coleira  gx  gy  gz     ax     ay  ...  \\\n",
       "0  16be5a04-d1c1-4620-b7d9-598843268ca0 NaN NaN NaN  62904  63848  ...   \n",
       "1  16be5a04-d1c1-4620-b7d9-598843268ca0 NaN NaN NaN   4699   6796  ...   \n",
       "\n",
       "         ax_        ay_        az_     a_xyz_ dist        Data         Hora  \\\n",
       "0  30.714844  31.175781  31.986328  31.226372  NaN  2019-12-05  11:41:15.62   \n",
       "1   2.294434   3.318359   0.958496   2.953675  NaN  2019-12-05  11:41:15.72   \n",
       "\n",
       "  hour  minute second  \n",
       "0   11      41     15  \n",
       "1   11      41     15  \n",
       "\n",
       "[2 rows x 32 columns]"
      ]
     },
     "execution_count": 28,
     "metadata": {},
     "output_type": "execute_result"
    }
   ],
   "source": [
    "df_current.limit(2).toPandas()"
   ]
  },
  {
   "cell_type": "code",
   "execution_count": 29,
   "metadata": {},
   "outputs": [
    {
     "data": {
      "text/html": [
       "<div>\n",
       "<style scoped>\n",
       "    .dataframe tbody tr th:only-of-type {\n",
       "        vertical-align: middle;\n",
       "    }\n",
       "\n",
       "    .dataframe tbody tr th {\n",
       "        vertical-align: top;\n",
       "    }\n",
       "\n",
       "    .dataframe thead th {\n",
       "        text-align: right;\n",
       "    }\n",
       "</style>\n",
       "<table border=\"1\" class=\"dataframe\">\n",
       "  <thead>\n",
       "    <tr style=\"text-align: right;\">\n",
       "      <th></th>\n",
       "      <th>level_0</th>\n",
       "      <th>index</th>\n",
       "      <th>activity</th>\n",
       "      <th>collar_id</th>\n",
       "      <th>u_id_coleira</th>\n",
       "      <th>gx</th>\n",
       "      <th>gy</th>\n",
       "      <th>gz</th>\n",
       "      <th>ax</th>\n",
       "      <th>ay</th>\n",
       "      <th>...</th>\n",
       "      <th>ax_</th>\n",
       "      <th>ay_</th>\n",
       "      <th>az_</th>\n",
       "      <th>a_xyz_</th>\n",
       "      <th>dist</th>\n",
       "      <th>Data</th>\n",
       "      <th>Hora</th>\n",
       "      <th>hour</th>\n",
       "      <th>minute</th>\n",
       "      <th>second</th>\n",
       "    </tr>\n",
       "  </thead>\n",
       "  <tbody>\n",
       "    <tr>\n",
       "      <td>0</td>\n",
       "      <td>10</td>\n",
       "      <td>208658</td>\n",
       "      <td>NO LABEL</td>\n",
       "      <td>1575546080</td>\n",
       "      <td>16be5a04-d1c1-4620-b7d9-598843268ca0</td>\n",
       "      <td>NaN</td>\n",
       "      <td>NaN</td>\n",
       "      <td>NaN</td>\n",
       "      <td>61184</td>\n",
       "      <td>62971</td>\n",
       "      <td>...</td>\n",
       "      <td>29.875000</td>\n",
       "      <td>30.747559</td>\n",
       "      <td>31.887695</td>\n",
       "      <td>30.393707</td>\n",
       "      <td>NaN</td>\n",
       "      <td>2019-12-05</td>\n",
       "      <td>11:41:16.62</td>\n",
       "      <td>11</td>\n",
       "      <td>41</td>\n",
       "      <td>16</td>\n",
       "    </tr>\n",
       "    <tr>\n",
       "      <td>1</td>\n",
       "      <td>11</td>\n",
       "      <td>208659</td>\n",
       "      <td>NO LABEL</td>\n",
       "      <td>1575546080</td>\n",
       "      <td>16be5a04-d1c1-4620-b7d9-598843268ca0</td>\n",
       "      <td>NaN</td>\n",
       "      <td>NaN</td>\n",
       "      <td>NaN</td>\n",
       "      <td>3755</td>\n",
       "      <td>7870</td>\n",
       "      <td>...</td>\n",
       "      <td>1.833496</td>\n",
       "      <td>3.842773</td>\n",
       "      <td>0.524902</td>\n",
       "      <td>2.696698</td>\n",
       "      <td>NaN</td>\n",
       "      <td>2019-12-05</td>\n",
       "      <td>11:41:16.72</td>\n",
       "      <td>11</td>\n",
       "      <td>41</td>\n",
       "      <td>16</td>\n",
       "    </tr>\n",
       "  </tbody>\n",
       "</table>\n",
       "<p>2 rows × 32 columns</p>\n",
       "</div>"
      ],
      "text/plain": [
       "   level_0   index  activity   collar_id  \\\n",
       "0       10  208658  NO LABEL  1575546080   \n",
       "1       11  208659  NO LABEL  1575546080   \n",
       "\n",
       "                           u_id_coleira  gx  gy  gz     ax     ay  ...  \\\n",
       "0  16be5a04-d1c1-4620-b7d9-598843268ca0 NaN NaN NaN  61184  62971  ...   \n",
       "1  16be5a04-d1c1-4620-b7d9-598843268ca0 NaN NaN NaN   3755   7870  ...   \n",
       "\n",
       "         ax_        ay_        az_     a_xyz_ dist        Data         Hora  \\\n",
       "0  29.875000  30.747559  31.887695  30.393707  NaN  2019-12-05  11:41:16.62   \n",
       "1   1.833496   3.842773   0.524902   2.696698  NaN  2019-12-05  11:41:16.72   \n",
       "\n",
       "  hour  minute second  \n",
       "0   11      41     16  \n",
       "1   11      41     16  \n",
       "\n",
       "[2 rows x 32 columns]"
      ]
     },
     "execution_count": 29,
     "metadata": {},
     "output_type": "execute_result"
    }
   ],
   "source": [
    "df_next.limit(2).toPandas()"
   ]
  },
  {
   "cell_type": "code",
   "execution_count": null,
   "metadata": {},
   "outputs": [],
   "source": [
    "#df__ = df_current.groupBy(\"Data\")\\\n",
    "#        .agg(F.collect_list(\"a_xyz_\").alias('Data_atual'))"
   ]
  },
  {
   "cell_type": "code",
   "execution_count": 30,
   "metadata": {},
   "outputs": [],
   "source": [
    "df_ = df_current.agg(F.collect_list(\"a_xyz_\").alias('Data_atual'))"
   ]
  },
  {
   "cell_type": "code",
   "execution_count": 31,
   "metadata": {},
   "outputs": [
    {
     "name": "stdout",
     "output_type": "stream",
     "text": [
      "root\n",
      " |-- Data_atual: array (nullable = true)\n",
      " |    |-- element: float (containsNull = false)\n",
      "\n"
     ]
    }
   ],
   "source": [
    "df_.printSchema()"
   ]
  },
  {
   "cell_type": "code",
   "execution_count": null,
   "metadata": {},
   "outputs": [],
   "source": [
    "#df__1  = df_next.groupBy(\"Data\")\\\n",
    "#        .agg(F.collect_list(\"a_xyz_\")\\\n",
    "#        .alias('Data_atual'))"
   ]
  },
  {
   "cell_type": "code",
   "execution_count": 32,
   "metadata": {},
   "outputs": [],
   "source": [
    "df_1 = df_next.agg(F.collect_list(\"a_xyz_\").alias('proxima_data'))"
   ]
  },
  {
   "cell_type": "code",
   "execution_count": 33,
   "metadata": {},
   "outputs": [],
   "source": [
    "from pyspark.sql.types import ArrayType,IntegerType\n",
    "from pyspark.sql.functions import split , explode"
   ]
  },
  {
   "cell_type": "code",
   "execution_count": 34,
   "metadata": {},
   "outputs": [
    {
     "data": {
      "text/html": [
       "<div>\n",
       "<style scoped>\n",
       "    .dataframe tbody tr th:only-of-type {\n",
       "        vertical-align: middle;\n",
       "    }\n",
       "\n",
       "    .dataframe tbody tr th {\n",
       "        vertical-align: top;\n",
       "    }\n",
       "\n",
       "    .dataframe thead th {\n",
       "        text-align: right;\n",
       "    }\n",
       "</style>\n",
       "<table border=\"1\" class=\"dataframe\">\n",
       "  <thead>\n",
       "    <tr style=\"text-align: right;\">\n",
       "      <th></th>\n",
       "      <th>Data_atual</th>\n",
       "    </tr>\n",
       "  </thead>\n",
       "  <tbody>\n",
       "    <tr>\n",
       "      <td>0</td>\n",
       "      <td>[31.22637176513672, 2.953674793243408, 1.50182...</td>\n",
       "    </tr>\n",
       "  </tbody>\n",
       "</table>\n",
       "</div>"
      ],
      "text/plain": [
       "                                          Data_atual\n",
       "0  [31.22637176513672, 2.953674793243408, 1.50182..."
      ]
     },
     "execution_count": 34,
     "metadata": {},
     "output_type": "execute_result"
    }
   ],
   "source": [
    "df_.toPandas()"
   ]
  },
  {
   "cell_type": "code",
   "execution_count": 35,
   "metadata": {},
   "outputs": [
    {
     "data": {
      "text/html": [
       "<div>\n",
       "<style scoped>\n",
       "    .dataframe tbody tr th:only-of-type {\n",
       "        vertical-align: middle;\n",
       "    }\n",
       "\n",
       "    .dataframe tbody tr th {\n",
       "        vertical-align: top;\n",
       "    }\n",
       "\n",
       "    .dataframe thead th {\n",
       "        text-align: right;\n",
       "    }\n",
       "</style>\n",
       "<table border=\"1\" class=\"dataframe\">\n",
       "  <thead>\n",
       "    <tr style=\"text-align: right;\">\n",
       "      <th></th>\n",
       "      <th>proxima_data</th>\n",
       "    </tr>\n",
       "  </thead>\n",
       "  <tbody>\n",
       "    <tr>\n",
       "      <td>0</td>\n",
       "      <td>[30.393707275390625, 2.6966984272003174, 32.01...</td>\n",
       "    </tr>\n",
       "  </tbody>\n",
       "</table>\n",
       "</div>"
      ],
      "text/plain": [
       "                                        proxima_data\n",
       "0  [30.393707275390625, 2.6966984272003174, 32.01..."
      ]
     },
     "execution_count": 35,
     "metadata": {},
     "output_type": "execute_result"
    }
   ],
   "source": [
    "df_1.toPandas()"
   ]
  },
  {
   "cell_type": "code",
   "execution_count": 36,
   "metadata": {},
   "outputs": [],
   "source": [
    "def calcular_valores_dtw(array1,array2):\n",
    "    distancia ,path = fastdtw(array,array2,dist=euclidean)\n",
    "    return distancia"
   ]
  },
  {
   "cell_type": "code",
   "execution_count": 37,
   "metadata": {},
   "outputs": [],
   "source": [
    "udf_dtw = udf(calcular_valores_dtw,FloatType())"
   ]
  },
  {
   "cell_type": "code",
   "execution_count": 38,
   "metadata": {},
   "outputs": [
    {
     "data": {
      "text/html": [
       "<div>\n",
       "<style scoped>\n",
       "    .dataframe tbody tr th:only-of-type {\n",
       "        vertical-align: middle;\n",
       "    }\n",
       "\n",
       "    .dataframe tbody tr th {\n",
       "        vertical-align: top;\n",
       "    }\n",
       "\n",
       "    .dataframe thead th {\n",
       "        text-align: right;\n",
       "    }\n",
       "</style>\n",
       "<table border=\"1\" class=\"dataframe\">\n",
       "  <thead>\n",
       "    <tr style=\"text-align: right;\">\n",
       "      <th></th>\n",
       "      <th>proxima_data</th>\n",
       "    </tr>\n",
       "  </thead>\n",
       "  <tbody>\n",
       "    <tr>\n",
       "      <td>0</td>\n",
       "      <td>[30.393707275390625, 2.6966984272003174, 32.01...</td>\n",
       "    </tr>\n",
       "  </tbody>\n",
       "</table>\n",
       "</div>"
      ],
      "text/plain": [
       "                                        proxima_data\n",
       "0  [30.393707275390625, 2.6966984272003174, 32.01..."
      ]
     },
     "execution_count": 38,
     "metadata": {},
     "output_type": "execute_result"
    }
   ],
   "source": [
    "df_1.toPandas()"
   ]
  },
  {
   "cell_type": "code",
   "execution_count": 39,
   "metadata": {},
   "outputs": [],
   "source": [
    "x = np.array([[1,1], [2,2], [3,3], [4,4], [5,5]])\n",
    "y = np.array([[2,2], [3,3], [4,4]])"
   ]
  },
  {
   "cell_type": "code",
   "execution_count": 40,
   "metadata": {},
   "outputs": [
    {
     "data": {
      "text/plain": [
       "(4.0, [(0, 0), (1, 0), (2, 1), (3, 2), (4, 2)])"
      ]
     },
     "execution_count": 40,
     "metadata": {},
     "output_type": "execute_result"
    }
   ],
   "source": [
    "fastdtw(x,y)"
   ]
  },
  {
   "cell_type": "code",
   "execution_count": 41,
   "metadata": {},
   "outputs": [
    {
     "name": "stdout",
     "output_type": "stream",
     "text": [
      "+------------------------------------------------------------------------------------------------------------------------+\n",
      "|                                                                                                            proxima_data|\n",
      "+------------------------------------------------------------------------------------------------------------------------+\n",
      "|[30.393707, 2.6966984, 32.01493, 29.797014, 1.8240151, 1.8173168, 29.471807, 31.413103, 2.0528228, 31.182814, 31.122257]|\n",
      "+------------------------------------------------------------------------------------------------------------------------+\n",
      "\n"
     ]
    }
   ],
   "source": [
    "df_1.show(truncate=500)"
   ]
  },
  {
   "cell_type": "code",
   "execution_count": 42,
   "metadata": {},
   "outputs": [],
   "source": [
    "dt = df_.select('Data_atual').collect()"
   ]
  },
  {
   "cell_type": "code",
   "execution_count": 43,
   "metadata": {},
   "outputs": [],
   "source": [
    "dc = df_1.select('proxima_data').collect()"
   ]
  },
  {
   "cell_type": "code",
   "execution_count": 44,
   "metadata": {},
   "outputs": [],
   "source": [
    "dt1 = dt[0][0]"
   ]
  },
  {
   "cell_type": "code",
   "execution_count": 45,
   "metadata": {},
   "outputs": [],
   "source": [
    "dc = dc[0][0]"
   ]
  },
  {
   "cell_type": "code",
   "execution_count": 46,
   "metadata": {},
   "outputs": [],
   "source": [
    "A = np.array(dt1)"
   ]
  },
  {
   "cell_type": "code",
   "execution_count": 47,
   "metadata": {},
   "outputs": [],
   "source": [
    "B =  np.array(dc)"
   ]
  },
  {
   "cell_type": "code",
   "execution_count": 48,
   "metadata": {},
   "outputs": [
    {
     "data": {
      "text/plain": [
       "(40.28572428226471,\n",
       " [(0, 0),\n",
       "  (1, 1),\n",
       "  (2, 1),\n",
       "  (3, 2),\n",
       "  (4, 3),\n",
       "  (5, 4),\n",
       "  (6, 5),\n",
       "  (7, 6),\n",
       "  (7, 7),\n",
       "  (8, 8),\n",
       "  (9, 9),\n",
       "  (10, 10)])"
      ]
     },
     "execution_count": 48,
     "metadata": {},
     "output_type": "execute_result"
    }
   ],
   "source": [
    "fastdtw(A,B)"
   ]
  },
  {
   "cell_type": "code",
   "execution_count": 49,
   "metadata": {},
   "outputs": [
    {
     "data": {
      "text/plain": [
       "[<matplotlib.lines.Line2D at 0x7fc59aa7e7d0>]"
      ]
     },
     "execution_count": 49,
     "metadata": {},
     "output_type": "execute_result"
    },
    {
     "data": {
      "image/png": "[encoded data removed]",
      "text/plain": [
       "<Figure size 432x288 with 1 Axes>"
      ]
     },
     "metadata": {
      "needs_background": "light"
     },
     "output_type": "display_data"
    }
   ],
   "source": [
    "plt.plot(A)"
   ]
  },
  {
   "cell_type": "code",
   "execution_count": 50,
   "metadata": {},
   "outputs": [
    {
     "data": {
      "text/plain": [
       "[<matplotlib.lines.Line2D at 0x7fc59a6e6290>]"
      ]
     },
     "execution_count": 50,
     "metadata": {},
     "output_type": "execute_result"
    },
    {
     "data": {
      "image/png": "[encoded data removed]",
      "text/plain": [
       "<Figure size 432x288 with 1 Axes>"
      ]
     },
     "metadata": {
      "needs_background": "light"
     },
     "output_type": "display_data"
    }
   ],
   "source": [
    "plt.plot(B)"
   ]
  },
  {
   "cell_type": "code",
   "execution_count": 53,
   "metadata": {},
   "outputs": [],
   "source": [
    "from dtaidistance import dtw\n",
    "from dtaidistance import dtw_visualisation as dtwvis"
   ]
  },
  {
   "cell_type": "code",
   "execution_count": 55,
   "metadata": {},
   "outputs": [
    {
     "data": {
      "text/plain": [
       "(<Figure size 720x720 with 4 Axes>,\n",
       " [<matplotlib.axes._subplots.AxesSubplot at 0x7fc599cf4e10>,\n",
       "  <matplotlib.axes._subplots.AxesSubplot at 0x7fc599eeb390>,\n",
       "  <matplotlib.axes._subplots.AxesSubplot at 0x7fc599e91e10>,\n",
       "  <matplotlib.axes._subplots.AxesSubplot at 0x7fc599eab1d0>])"
      ]
     },
     "execution_count": 55,
     "metadata": {},
     "output_type": "execute_result"
    },
    {
     "data": {
      "image/png": "[encoded data removed]",
      "text/plain": [
       "<Figure size 720x720 with 4 Axes>"
      ]
     },
     "metadata": {
      "needs_background": "light"
     },
     "output_type": "display_data"
    }
   ],
   "source": [
    "d, paths = dtw.warping_paths(A, B, window=20, psi=2)\n",
    "best_path = dtw.best_path(paths)\n",
    "dtwvis.plot_warpingpaths(A,B, paths, best_path)"
   ]
  },
  {
   "cell_type": "code",
   "execution_count": 59,
   "metadata": {},
   "outputs": [
    {
     "name": "stdout",
     "output_type": "stream",
     "text": [
      "4.141309745018307\n"
     ]
    }
   ],
   "source": [
    "from dtaidistance import dtw\n",
    "distance, paths = dtw.warping_paths(A, B)\n",
    "print(distance)\n",
    "#print(paths)"
   ]
  },
  {
   "cell_type": "code",
   "execution_count": null,
   "metadata": {},
   "outputs": [],
   "source": []
  }
 ],
 "metadata": {
  "kernelspec": {
   "display_name": "Python 3",
   "language": "python",
   "name": "python3"
  },
  "language_info": {
   "codemirror_mode": {
    "name": "ipython",
    "version": 3
   },
   "file_extension": ".py",
   "mimetype": "text/x-python",
   "name": "python",
   "nbconvert_exporter": "python",
   "pygments_lexer": "ipython3",
   "version": "3.7.4"
  }
 },
 "nbformat": 4,
 "nbformat_minor": 2
}
