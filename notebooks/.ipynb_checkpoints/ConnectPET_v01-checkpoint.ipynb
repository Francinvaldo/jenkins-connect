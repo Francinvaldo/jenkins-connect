{
 "cells": [
  {
   "cell_type": "code",
   "execution_count": 1,
   "metadata": {},
   "outputs": [],
   "source": [
    "############################################################################################################################################################################\n",
    "#                                                                  Projeto ConnectPet                                                                                      #\n",
    "#                                                       Grupo de Inteligência Artificial Logicalis- Brasil                                                                 #\n",
    "#                                                                                                                                                                          #\n",
    "#                                                                                                                                                                          #\n",
    "############################################################################################################################################################################"
   ]
  },
  {
   "cell_type": "code",
   "execution_count": 2,
   "metadata": {},
   "outputs": [
    {
     "data": {
      "text/html": [
       "<style>.container { width:100% !important; }</style>"
      ],
      "text/plain": [
       "<IPython.core.display.HTML object>"
      ]
     },
     "metadata": {},
     "output_type": "display_data"
    }
   ],
   "source": [
    "############################################################################################################################################################################\n",
    "#                                                                  Projeto ConnectPet                                                                                      #\n",
    "#                                                                     bibliotecas                                                                                          #\n",
    "#                                                                                                                                                                          #\n",
    "#                                                                                                                                                                          #\n",
    "############################################################################################################################################################################\n",
    "import pandas as pd\n",
    "import dask.dataframe as dd\n",
    "from sklearn.cluster import KMeans\n",
    "import matplotlib.pyplot as plt\n",
    "import seaborn as sns;sns.set(context='notebook', palette='pastel', style='darkgrid')\n",
    "# import Python libraries\n",
    "import warnings\n",
    "warnings.filterwarnings('ignore')\n",
    "import numpy as np\n",
    "import pandas as pd\n",
    "import matplotlib.pyplot as plt\n",
    "%matplotlib inline\n",
    "from sklearn.metrics import roc_auc_score\n",
    "from sklearn.preprocessing import StandardScaler\n",
    "from sklearn.preprocessing import MinMaxScaler\n",
    "from sklearn import tree\n",
    "import pandas as pd\n",
    "from sklearn.pipeline import Pipeline\n",
    "from category_encoders import OneHotEncoder\n",
    "from sklearn.linear_model import LogisticRegression\n",
    "from sklearn.tree import DecisionTreeClassifier\n",
    "from sklearn.ensemble import RandomForestClassifier\n",
    "from sklearn.model_selection import train_test_split\n",
    "from sklearn.model_selection import GridSearchCV\n",
    "import pickle\n",
    "\n",
    "from IPython.core.display import display, HTML\n",
    "display(HTML(\"<style>.container { width:100% !important; }</style>\"))"
   ]
  },
  {
   "cell_type": "code",
   "execution_count": 3,
   "metadata": {},
   "outputs": [],
   "source": [
    "############################################################################################################################################################################\n",
    "#                                                                  Projeto ConnectPet                                                                                      #\n",
    "#                                                       Dataset - Tenho que ver se esse e o completo.                                                                      #\n",
    "#                                                                                                                                                                          #\n",
    "#                                                                                                                                                                          #\n",
    "############################################################################################################################################################################"
   ]
  },
  {
   "cell_type": "code",
   "execution_count": 4,
   "metadata": {},
   "outputs": [],
   "source": [
    "dd_the_big_table = dd.read_parquet('/home/re91921z@nimbus.local/Documentos/DataScience/ConnectPET/data/db_merged.parquet/*.parquet',engine='fastparquet' )\n",
    "dd_the_big_table = dd_the_big_table[dd_the_big_table['activity'] != 'NO LABEL']\n",
    "df  = dd_the_big_table.compute()"
   ]
  },
  {
   "cell_type": "code",
   "execution_count": 5,
   "metadata": {},
   "outputs": [],
   "source": [
    "# check the distribution of Class column\n",
    "#df['activity'].value_counts()"
   ]
  },
  {
   "cell_type": "code",
   "execution_count": 6,
   "metadata": {},
   "outputs": [],
   "source": [
    "# percentage of labels within the Class column\n",
    "#df['activity'].value_counts()/np.float(len(df))"
   ]
  },
  {
   "cell_type": "code",
   "execution_count": 7,
   "metadata": {},
   "outputs": [],
   "source": [
    "# view the distribution of percentages within the Class column\n",
    "#(df['activity'].value_counts()/np.float(len(df))).plot.bar()"
   ]
  },
  {
   "cell_type": "code",
   "execution_count": 8,
   "metadata": {},
   "outputs": [],
   "source": [
    "############################################################################################################################################################################\n",
    "#                                                                  Projeto ConnectPet                                                                                      #\n",
    "#                                                           Dividir o dataset em train e test                                                                              #\n",
    "#                                                                                                                                                                          #\n",
    "#                                                                                                                                                                          #\n",
    "############################################################################################################################################################################"
   ]
  },
  {
   "cell_type": "code",
   "execution_count": 9,
   "metadata": {},
   "outputs": [],
   "source": [
    "# Deletar colunas \n",
    "df.drop(['gx','gy','gz','lat','long'],axis=1,inplace=True)"
   ]
  },
  {
   "cell_type": "code",
   "execution_count": 10,
   "metadata": {},
   "outputs": [],
   "source": [
    "X = df.drop('activity',axis=1,inplace=False)\n",
    "y = df['activity']\n",
    "X_train , X_test , y_train , y_test  = train_test_split(X,y,test_size=0.7)"
   ]
  },
  {
   "cell_type": "code",
   "execution_count": 11,
   "metadata": {},
   "outputs": [],
   "source": [
    "ohe = OneHotEncoder(use_cat_names=True)"
   ]
  },
  {
   "cell_type": "code",
   "execution_count": 12,
   "metadata": {},
   "outputs": [],
   "source": [
    "############################################################################################################################################################################\n",
    "#                                                                  Projeto ConnectPet                                                                                      #\n",
    "#                                                               Pipeline-Machine learning                                                                                  #\n",
    "#                                                                                                                                                                          #\n",
    "#                                                                                                                                                                          #\n",
    "############################################################################################################################################################################"
   ]
  },
  {
   "cell_type": "code",
   "execution_count": 13,
   "metadata": {},
   "outputs": [],
   "source": [
    "pipeline_tree = Pipeline([\n",
    "    ('ohe',OneHotEncoder()),\n",
    "    ('Scaler',StandardScaler()),\n",
    "    ('clf',tree.DecisionTreeClassifier())    \n",
    "])\n",
    "\n",
    "pipeline_lr = Pipeline([\n",
    "     ('ohe',OneHotEncoder()),\n",
    "    ('Scaler',StandardScaler()),\n",
    "    ('clf_lr',LogisticRegression(random_state=0))\n",
    "    \n",
    "])\n",
    "pipeline_randomforest = Pipeline([\n",
    "     ('ohe',OneHotEncoder(use_cat_names=True)),\n",
    "    ('Scaler',StandardScaler()),\n",
    "    ('rf_classifer',RandomForestClassifier())\n",
    "    \n",
    "])\n",
    "\n",
    "pipeline_final = [pipeline_lr,pipeline_tree,pipeline_randomforest]"
   ]
  },
  {
   "cell_type": "code",
   "execution_count": 14,
   "metadata": {},
   "outputs": [],
   "source": [
    "############################################################################################################################################################################\n",
    "#                                                                  Projeto ConnectPet                                                                                      #\n",
    "#                                                                  Resultados/Metricas                                                                                     #\n",
    "#                                                                                                                                                                          #\n",
    "#                                                                                                                                                                          #\n",
    "############################################################################################################################################################################"
   ]
  },
  {
   "cell_type": "code",
   "execution_count": 15,
   "metadata": {},
   "outputs": [],
   "source": [
    "best_accuracy = 0.0\n",
    "best_classifer = 0\n",
    "best_pipeline = \"\""
   ]
  },
  {
   "cell_type": "code",
   "execution_count": 16,
   "metadata": {},
   "outputs": [],
   "source": [
    "pipe_dict = {0:'Logistic Regression',1:'Desion Tree',2:'random forest'}\n",
    "for pipe in pipeline_final:\n",
    "    pipe.fit(X_train,y_train)"
   ]
  },
  {
   "cell_type": "code",
   "execution_count": 17,
   "metadata": {},
   "outputs": [
    {
     "name": "stdout",
     "output_type": "stream",
     "text": [
      "Logistic Regression Test Accuracy: 0.5998638027409698\n",
      "Desion Tree Test Accuracy: 0.9882955480520954\n",
      "random forest Test Accuracy: 0.9236302244417331\n"
     ]
    }
   ],
   "source": [
    "for i,model in enumerate(pipeline_final):\n",
    "    print(\"{} Test Accuracy: {}\".format(pipe_dict[i],model.score(X_test,y_test)))     "
   ]
  },
  {
   "cell_type": "code",
   "execution_count": 18,
   "metadata": {},
   "outputs": [
    {
     "name": "stdout",
     "output_type": "stream",
     "text": [
      "Classifer with best accuracy : Desion Tree\n"
     ]
    }
   ],
   "source": [
    "for i, model in enumerate(pipeline_final):\n",
    "    if model.score(X_test,y_test)> best_accuracy:\n",
    "        best_accuracy = model.score(X_test,y_test)\n",
    "        best_pipeline = model\n",
    "        best_classifer = i\n",
    "print('Classifer with best accuracy : {}'.format(pipe_dict[best_classifer]))"
   ]
  },
  {
   "cell_type": "code",
   "execution_count": 19,
   "metadata": {},
   "outputs": [
    {
     "name": "stdout",
     "output_type": "stream",
     "text": [
      "Andando\n",
      "Andando\n",
      "Andando\n"
     ]
    }
   ],
   "source": [
    "print(pipeline_lr.predict(X_test)[0])\n",
    "print(pipeline_tree.predict(X_test)[0])\n",
    "print(pipeline_randomforest.predict(X_test)[0])"
   ]
  },
  {
   "cell_type": "code",
   "execution_count": 20,
   "metadata": {},
   "outputs": [],
   "source": [
    "############################################################################################################################################################################\n",
    "#                                                                  Projeto ConnectPet                                                                                      #\n",
    "#                                                               Salvar o Modelo em Disco                                                                                   #\n",
    "#                                                                                                                                                                          #\n",
    "#                                                                                                                                                                          #\n",
    "############################################################################################################################################################################"
   ]
  },
  {
   "cell_type": "code",
   "execution_count": 21,
   "metadata": {},
   "outputs": [],
   "source": [
    "# Saving model to disk\n",
    "model = pickle.dump(best_pipeline, open('/home/re91921z@nimbus.local/Documentos/DataScience/ConnectPET/connectPET_v01.pkl','wb'))"
   ]
  },
  {
   "cell_type": "code",
   "execution_count": 22,
   "metadata": {},
   "outputs": [],
   "source": [
    "# bora testar o modelo em disco??\n",
    "# Loading model to compare the results\n",
    "model = pickle.load(open('/home/re91921z@nimbus.local/Documentos/DataScience/ConnectPET/connectPET_v01.pkl','rb'))"
   ]
  },
  {
   "cell_type": "code",
   "execution_count": 23,
   "metadata": {},
   "outputs": [],
   "source": [
    "df1 = df.copy()"
   ]
  },
  {
   "cell_type": "code",
   "execution_count": 24,
   "metadata": {},
   "outputs": [],
   "source": [
    "############################################################################################################################################################################\n",
    "#                                                                  Projeto ConnectPet                                                                                      #\n",
    "#                                                                   Testar o modelo                                                                                        #\n",
    "#                                                                                                                                                                          #\n",
    "#                                                                                                                                                                          #\n",
    "############################################################################################################################################################################"
   ]
  },
  {
   "cell_type": "code",
   "execution_count": 25,
   "metadata": {},
   "outputs": [],
   "source": [
    "prediction = df1.drop(['activity'],axis=1).loc[905]\n",
    "prediction.T\n",
    "pred = pd.DataFrame(prediction.T)\n",
    "pred1 = pred.T"
   ]
  },
  {
   "cell_type": "code",
   "execution_count": 26,
   "metadata": {},
   "outputs": [
    {
     "data": {
      "text/html": [
       "<div>\n",
       "<style scoped>\n",
       "    .dataframe tbody tr th:only-of-type {\n",
       "        vertical-align: middle;\n",
       "    }\n",
       "\n",
       "    .dataframe tbody tr th {\n",
       "        vertical-align: top;\n",
       "    }\n",
       "\n",
       "    .dataframe thead th {\n",
       "        text-align: right;\n",
       "    }\n",
       "</style>\n",
       "<table border=\"1\" class=\"dataframe\">\n",
       "  <thead>\n",
       "    <tr style=\"text-align: right;\">\n",
       "      <th></th>\n",
       "      <th>collar_id</th>\n",
       "      <th>u_id_coleira</th>\n",
       "      <th>ax</th>\n",
       "      <th>ay</th>\n",
       "      <th>az</th>\n",
       "      <th>temp</th>\n",
       "      <th>time_stamp</th>\n",
       "      <th>pet_id</th>\n",
       "      <th>size</th>\n",
       "      <th>race</th>\n",
       "      <th>age</th>\n",
       "      <th>genre</th>\n",
       "      <th>owner_id</th>\n",
       "    </tr>\n",
       "  </thead>\n",
       "  <tbody>\n",
       "    <tr>\n",
       "      <td>905</td>\n",
       "      <td>1576978884274</td>\n",
       "      <td>04eebd5a-9f4e-4f35-b18e-ee4a8131fe64</td>\n",
       "      <td>1521</td>\n",
       "      <td>1060</td>\n",
       "      <td>64077</td>\n",
       "      <td>3488</td>\n",
       "      <td>1577575453680</td>\n",
       "      <td>1576706439044</td>\n",
       "      <td>LARGE</td>\n",
       "      <td>Sem Raça Definida (SRD)</td>\n",
       "      <td></td>\n",
       "      <td>MALE</td>\n",
       "      <td>1576706430302</td>\n",
       "    </tr>\n",
       "  </tbody>\n",
       "</table>\n",
       "</div>"
      ],
      "text/plain": [
       "         collar_id                          u_id_coleira    ax    ay     az  \\\n",
       "905  1576978884274  04eebd5a-9f4e-4f35-b18e-ee4a8131fe64  1521  1060  64077   \n",
       "\n",
       "     temp     time_stamp         pet_id   size                     race age  \\\n",
       "905  3488  1577575453680  1576706439044  LARGE  Sem Raça Definida (SRD)       \n",
       "\n",
       "    genre       owner_id  \n",
       "905  MALE  1576706430302  "
      ]
     },
     "execution_count": 26,
     "metadata": {},
     "output_type": "execute_result"
    }
   ],
   "source": [
    "pred1"
   ]
  },
  {
   "cell_type": "code",
   "execution_count": 27,
   "metadata": {},
   "outputs": [
    {
     "data": {
      "text/plain": [
       "'Andando'"
      ]
     },
     "execution_count": 27,
     "metadata": {},
     "output_type": "execute_result"
    }
   ],
   "source": [
    "model.predict(pred1)[0]"
   ]
  },
  {
   "cell_type": "code",
   "execution_count": 29,
   "metadata": {},
   "outputs": [
    {
     "data": {
      "text/plain": [
       "'labels ={\\n  0: \"Andando\",\\n  1: \"Dormindo ou deitado\",\\n  2: \"Se lambendo\",\\n  3: \"Sentado\",\\n  4: \"Latindo\",\\n  5: \"Coçando a orelha\",\\n  6: \"Mordendo o rabo\",\\n  7: \"Comendo / bebendo\",\\n  8: \"Balançando a cabeça\",\\n  9: \"A orelha com  pata\",\\n  10: \"Pulando\",\\n  11: \"Comendo/Bebendo\",\\n  12: \"Correndo\"\\n    \\n}'"
      ]
     },
     "execution_count": 29,
     "metadata": {},
     "output_type": "execute_result"
    }
   ],
   "source": [
    "\"\"\"labels ={\n",
    "  0: \"Andando\",\n",
    "  1: \"Dormindo ou deitado\",\n",
    "  2: \"Se lambendo\",\n",
    "  3: \"Sentado\",\n",
    "  4: \"Latindo\",\n",
    "  5: \"Coçando a orelha\",\n",
    "  6: \"Mordendo o rabo\",\n",
    "  7: \"Comendo / bebendo\",\n",
    "  8: \"Balançando a cabeça\",\n",
    "  9: \"A orelha com  pata\",\n",
    "  10: \"Pulando\",\n",
    "  11: \"Comendo/Bebendo\",\n",
    "  12: \"Correndo\"\n",
    "    \n",
    "}\"\"\""
   ]
  }
 ],
 "metadata": {
  "kernelspec": {
   "display_name": "Python 3",
   "language": "python",
   "name": "python3"
  },
  "language_info": {
   "codemirror_mode": {
    "name": "ipython",
    "version": 3
   },
   "file_extension": ".py",
   "mimetype": "text/x-python",
   "name": "python",
   "nbconvert_exporter": "python",
   "pygments_lexer": "ipython3",
   "version": "3.7.4"
  }
 },
 "nbformat": 4,
 "nbformat_minor": 4
}
