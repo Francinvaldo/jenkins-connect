{
 "cells": [
  {
   "cell_type": "code",
   "execution_count": 1,
   "metadata": {},
   "outputs": [],
   "source": [
    "############################################################################################################################################################################\n",
    "#                                                                  Projeto ConnectPet                                                                                      #\n",
    "#                                                       Grupo de Inteligência Artificial Logicalis- Brasil                                                                 #\n",
    "#                                                                                                                                                                          #\n",
    "#                                                                                                                                                                          #\n",
    "############################################################################################################################################################################"
   ]
  },
  {
   "cell_type": "code",
   "execution_count": 2,
   "metadata": {},
   "outputs": [],
   "source": [
    "############################################################################################################################################################################\n",
    "#                                                                  Projeto ConnectPet                                                                                      #\n",
    "#                                                                     bibliotecas                                                                                          #\n",
    "#                                                                                                                                                                          #\n",
    "#                                                                                                                                                                          #\n",
    "############################################################################################################################################################################\n",
    "import pandas as pd\n",
    "import dask.dataframe as dd\n",
    "from sklearn.cluster import KMeans\n",
    "import matplotlib.pyplot as plt\n",
    "import seaborn as sns;sns.set(context='notebook', palette='pastel', style='darkgrid')\n",
    "# import Python libraries\n",
    "import warnings\n",
    "warnings.filterwarnings('ignore')\n",
    "import numpy as np\n",
    "import pandas as pd\n",
    "import matplotlib.pyplot as plt\n",
    "%matplotlib inline\n",
    "from sklearn.metrics import roc_auc_score\n",
    "from sklearn.preprocessing import StandardScaler\n",
    "from sklearn.preprocessing import MinMaxScaler\n",
    "from sklearn import tree\n",
    "import pandas as pd\n",
    "from sklearn.pipeline import Pipeline\n",
    "from category_encoders import OneHotEncoder\n",
    "from sklearn.linear_model import LogisticRegression\n",
    "from sklearn.tree import DecisionTreeClassifier\n",
    "from sklearn.ensemble import RandomForestClassifier\n",
    "from sklearn.model_selection import train_test_split\n",
    "from sklearn.model_selection import GridSearchCV\n",
    "import pickle"
   ]
  },
  {
   "cell_type": "code",
   "execution_count": 3,
   "metadata": {},
   "outputs": [],
   "source": [
    "############################################################################################################################################################################\n",
    "#                                                                  Projeto ConnectPet                                                                                      #\n",
    "#                                                       Dataset - Tenho que ver se esse e o completo.                                                                      #\n",
    "#                                                                                                                                                                          #\n",
    "#                                                                                                                                                                          #\n",
    "############################################################################################################################################################################"
   ]
  },
  {
   "cell_type": "code",
   "execution_count": 4,
   "metadata": {},
   "outputs": [],
   "source": [
    "dd_the_big_table = dd.read_parquet('/home/re91921z@nimbus.local/Documentos/DataScience/ConnectPET/data/db_merged.parquet/*.parquet',engine='fastparquet' )\n",
    "dd_the_big_table = dd_the_big_table[dd_the_big_table['activity'] != 'NO LABEL']\n",
    "df  = dd_the_big_table.compute()"
   ]
  },
  {
   "cell_type": "code",
   "execution_count": 5,
   "metadata": {},
   "outputs": [
    {
     "data": {
      "text/plain": [
       "Andando                55678\n",
       "Correndo               11494\n",
       "Sentado                10653\n",
       "Dormindo ou deitado     7575\n",
       "Latindo                 3549\n",
       "Comendo / bebendo       3044\n",
       "Comendo/Bebendo         2101\n",
       "A orelha com  pata      1719\n",
       "Se lambendo             1473\n",
       "Coçando a orelha        1176\n",
       "Balançando a cabeça     1122\n",
       "Pulando                 1089\n",
       "Mordendo o rabo           20\n",
       "Name: activity, dtype: int64"
      ]
     },
     "execution_count": 5,
     "metadata": {},
     "output_type": "execute_result"
    }
   ],
   "source": [
    "# check the distribution of Class column\n",
    "df['activity'].value_counts()"
   ]
  },
  {
   "cell_type": "code",
   "execution_count": 6,
   "metadata": {},
   "outputs": [
    {
     "data": {
      "text/plain": [
       "Andando                0.552948\n",
       "Correndo               0.114149\n",
       "Sentado                0.105797\n",
       "Dormindo ou deitado    0.075229\n",
       "Latindo                0.035246\n",
       "Comendo / bebendo      0.030231\n",
       "Comendo/Bebendo        0.020865\n",
       "A orelha com  pata     0.017072\n",
       "Se lambendo            0.014629\n",
       "Coçando a orelha       0.011679\n",
       "Balançando a cabeça    0.011143\n",
       "Pulando                0.010815\n",
       "Mordendo o rabo        0.000199\n",
       "Name: activity, dtype: float64"
      ]
     },
     "execution_count": 6,
     "metadata": {},
     "output_type": "execute_result"
    }
   ],
   "source": [
    "# percentage of labels within the Class column\n",
    "df['activity'].value_counts()/np.float(len(df))"
   ]
  },
  {
   "cell_type": "code",
   "execution_count": 7,
   "metadata": {},
   "outputs": [
    {
     "data": {
      "text/plain": [
       "<matplotlib.axes._subplots.AxesSubplot at 0x7f1cd464a110>"
      ]
     },
     "execution_count": 7,
     "metadata": {},
     "output_type": "execute_result"
    },
    {
     "data": {
      "image/png": "[encoded data removed]",
      "text/plain": [
       "<Figure size 432x288 with 1 Axes>"
      ]
     },
     "metadata": {
      "needs_background": "light"
     },
     "output_type": "display_data"
    }
   ],
   "source": [
    "# Distrubuição das classes em porcentagem.\n",
    "(df['activity'].value_counts()/np.float(len(df))).plot.bar()"
   ]
  },
  {
   "cell_type": "code",
   "execution_count": 8,
   "metadata": {},
   "outputs": [],
   "source": [
    "# Deletar colunas \n",
    "df.drop(['gx','gy','gz','lat','long'],axis=1,inplace=True)"
   ]
  },
  {
   "cell_type": "code",
   "execution_count": 9,
   "metadata": {},
   "outputs": [],
   "source": [
    "X = df.drop('activity',axis=1,inplace=False)\n",
    "y = df['activity']\n",
    "X_train , X_test , y_train , y_test  = train_test_split(X,y)"
   ]
  },
  {
   "cell_type": "code",
   "execution_count": 10,
   "metadata": {},
   "outputs": [],
   "source": [
    "ohe = OneHotEncoder(use_cat_names=True)"
   ]
  },
  {
   "cell_type": "code",
   "execution_count": 11,
   "metadata": {},
   "outputs": [],
   "source": [
    "#X_train = ohe.fit_transform(X_train)\n",
    "#scaler = StandardScaler()\n",
    "#scaler = StandardScaler().fit(X_train)\n",
    "#X_train = scaler.transform(X_train)\n",
    "#clf_tree = tree.DecisionTreeClassifier()\n",
    "#clf_tree = clf_tree.fit(X_train,y_train)"
   ]
  },
  {
   "cell_type": "code",
   "execution_count": 12,
   "metadata": {},
   "outputs": [],
   "source": [
    "## Aplica OHE e pre-processador nos dados do teste"
   ]
  },
  {
   "cell_type": "code",
   "execution_count": 13,
   "metadata": {},
   "outputs": [],
   "source": [
    "#X_test = ohe.transform(X_test)\n",
    "#scalter_test = StandardScaler().fit(X_test)\n",
    "#X_test = scalter_test.transform(X_test)\n",
    "#clf_tree.predict(X_test)"
   ]
  },
  {
   "cell_type": "code",
   "execution_count": 14,
   "metadata": {},
   "outputs": [],
   "source": [
    "#acuracia = clf_tree.score(X_test,y_test)\n",
    "#acuracia"
   ]
  },
  {
   "cell_type": "code",
   "execution_count": 15,
   "metadata": {},
   "outputs": [],
   "source": [
    "############################################################################################################################################################################\n",
    "#                                                                  Projeto ConnectPet                                                                                      #\n",
    "#                                                               Pipeline-Machine learning                                                                                  #\n",
    "#                                                                                                                                                                          #\n",
    "#                                                                                                                                                                          #\n",
    "############################################################################################################################################################################"
   ]
  },
  {
   "cell_type": "code",
   "execution_count": 16,
   "metadata": {},
   "outputs": [],
   "source": [
    "pipeline_tree = Pipeline([\n",
    "    ('ohe',OneHotEncoder(use_cat_names=True)),\n",
    "    ('Scaler',StandardScaler()),\n",
    "    ('clf',tree.DecisionTreeClassifier())    \n",
    "])\n",
    "\n",
    "pipeline_lr = Pipeline([\n",
    "     ('ohe',OneHotEncoder(use_cat_names=True)),\n",
    "    ('Scaler',StandardScaler()),\n",
    "    ('clf_lr',LogisticRegression(random_state=0))\n",
    "    \n",
    "])\n",
    "pipeline_randomforest = Pipeline([\n",
    "     ('ohe',OneHotEncoder(use_cat_names=True)),\n",
    "    ('Scaler',StandardScaler()),\n",
    "    ('rf_classifer',RandomForestClassifier())\n",
    "    \n",
    "])\n",
    "\n",
    "pipeline_final = [pipeline_lr,pipeline_tree,pipeline_randomforest]"
   ]
  },
  {
   "cell_type": "code",
   "execution_count": 17,
   "metadata": {},
   "outputs": [],
   "source": [
    "############################################################################################################################################################################\n",
    "#                                                                  Projeto ConnectPet                                                                                      #\n",
    "#                                                                  Resultados/Metricas                                                                                     #\n",
    "#                                                                                                                                                                          #\n",
    "#                                                                                                                                                                          #\n",
    "############################################################################################################################################################################"
   ]
  },
  {
   "cell_type": "code",
   "execution_count": 18,
   "metadata": {},
   "outputs": [],
   "source": [
    "best_accuracy = 0.0\n",
    "best_classifer = 0\n",
    "best_pipeline = \"\""
   ]
  },
  {
   "cell_type": "code",
   "execution_count": 19,
   "metadata": {},
   "outputs": [],
   "source": [
    "pipe_dict = {0:'Logistic Regression',1:'Desion Tree',2:'random forest'}\n",
    "for pipe in pipeline_final:\n",
    "    pipe.fit(X_train,y_train)"
   ]
  },
  {
   "cell_type": "code",
   "execution_count": 20,
   "metadata": {},
   "outputs": [
    {
     "name": "stdout",
     "output_type": "stream",
     "text": [
      "Logistic Regression Test Accuracy: 0.6017319456582187\n",
      "Desion Tree Test Accuracy: 0.991300548184635\n",
      "random forest Test Accuracy: 0.9408516723603718\n"
     ]
    }
   ],
   "source": [
    "for i,model in enumerate(pipeline_final):\n",
    "    print(\"{} Test Accuracy: {}\".format(pipe_dict[i],model.score(X_test,y_test)))     "
   ]
  },
  {
   "cell_type": "code",
   "execution_count": 21,
   "metadata": {},
   "outputs": [
    {
     "name": "stdout",
     "output_type": "stream",
     "text": [
      "Classifer with best accuracy:Desion Tree\n"
     ]
    }
   ],
   "source": [
    "for i, model in enumerate(pipeline_final):\n",
    "    if model.score(X_test,y_test)> best_accuracy:\n",
    "        best_accuracy = model.score(X_test,y_test)\n",
    "        best_pipeline = model\n",
    "        best_classifer = i\n",
    "print('Classifer with best accuracy:{}'.format(pipe_dict[best_classifer]))"
   ]
  },
  {
   "cell_type": "code",
   "execution_count": 22,
   "metadata": {},
   "outputs": [
    {
     "name": "stdout",
     "output_type": "stream",
     "text": [
      "Andando\n",
      "Andando\n",
      "Andando\n"
     ]
    }
   ],
   "source": [
    "print(pipeline_lr.predict(X_test)[0])\n",
    "print(pipeline_tree.predict(X_test)[0])\n",
    "print(pipeline_randomforest.predict(X_test)[0])"
   ]
  },
  {
   "cell_type": "code",
   "execution_count": 23,
   "metadata": {},
   "outputs": [],
   "source": [
    "############################################################################################################################################################################\n",
    "#                                                                  Projeto ConnectPet                                                                                      #\n",
    "#                                                               Salvar o Modelo em Disco                                                                                   #\n",
    "#                                                                                                                                                                          #\n",
    "#                                                                                                                                                                          #\n",
    "############################################################################################################################################################################"
   ]
  },
  {
   "cell_type": "code",
   "execution_count": 24,
   "metadata": {},
   "outputs": [],
   "source": [
    "# Saving model to disk\n",
    "#pickle.dump(pipeline_lr, open('/home/re91921z@nimbus.local/Documentos/DataScience/ConnectPET/connectPET_v01.pkl','wb'))"
   ]
  },
  {
   "cell_type": "code",
   "execution_count": null,
   "metadata": {},
   "outputs": [],
   "source": []
  },
  {
   "cell_type": "code",
   "execution_count": null,
   "metadata": {},
   "outputs": [],
   "source": []
  },
  {
   "cell_type": "code",
   "execution_count": null,
   "metadata": {},
   "outputs": [],
   "source": []
  },
  {
   "cell_type": "code",
   "execution_count": null,
   "metadata": {},
   "outputs": [],
   "source": []
  },
  {
   "cell_type": "code",
   "execution_count": null,
   "metadata": {},
   "outputs": [],
   "source": []
  },
  {
   "cell_type": "code",
   "execution_count": null,
   "metadata": {},
   "outputs": [],
   "source": []
  },
  {
   "cell_type": "code",
   "execution_count": null,
   "metadata": {},
   "outputs": [],
   "source": []
  },
  {
   "cell_type": "code",
   "execution_count": null,
   "metadata": {},
   "outputs": [],
   "source": []
  }
 ],
 "metadata": {
  "kernelspec": {
   "display_name": "Python 3",
   "language": "python",
   "name": "python3"
  },
  "language_info": {
   "codemirror_mode": {
    "name": "ipython",
    "version": 3
   },
   "file_extension": ".py",
   "mimetype": "text/x-python",
   "name": "python",
   "nbconvert_exporter": "python",
   "pygments_lexer": "ipython3",
   "version": "3.7.4"
  }
 },
 "nbformat": 4,
 "nbformat_minor": 4
}
